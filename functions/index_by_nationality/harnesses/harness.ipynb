{
 "cells": [
  {
   "cell_type": "markdown",
   "metadata": {},
   "source": [
    "# Import modules"
   ]
  },
  {
   "cell_type": "code",
   "execution_count": 18,
   "metadata": {},
   "outputs": [
    {
     "name": "stdout",
     "output_type": "stream",
     "text": [
      "Requirement already satisfied: graphene in /opt/conda/lib/python3.6/site-packages (2.1.3)\n",
      "Requirement already satisfied: aniso8601<4,>=3 in /opt/conda/lib/python3.6/site-packages (from graphene) (3.0.2)\n",
      "Requirement already satisfied: graphql-core<3,>=2.1 in /opt/conda/lib/python3.6/site-packages (from graphene) (2.1)\n",
      "Requirement already satisfied: graphql-relay<1,>=0.4.5 in /opt/conda/lib/python3.6/site-packages (from graphene) (0.4.5)\n",
      "Requirement already satisfied: promise<3,>=2.1 in /opt/conda/lib/python3.6/site-packages (from graphene) (2.2.1)\n",
      "Requirement already satisfied: six<2,>=1.10.0 in /opt/conda/lib/python3.6/site-packages (from graphene) (1.11.0)\n",
      "Requirement already satisfied: rx>=1.6.0 in /opt/conda/lib/python3.6/site-packages (from graphql-core<3,>=2.1->graphene) (1.6.1)\n"
     ]
    }
   ],
   "source": [
    "!pip install graphene\n",
    "import graphene\n",
    "import json\n",
    "import sys, io\n",
    "import pandas as pd\n",
    "import numpy as np\n",
    "import importlib\n",
    "import os\n",
    "import pathlib\n",
    "import requests\n",
    "import torch\n",
    "\n",
    "bundle_root = pathlib.Path(os.environ.get('LABS_BUNDLE_ROOT', '/labs'))\n",
    "sys.path.append(str(bundle_root / 'functions/index_by_nationality'))"
   ]
  },
  {
   "cell_type": "code",
   "execution_count": 20,
   "metadata": {},
   "outputs": [],
   "source": [
    "query_metadata = \"\"\"query metadata {nationalityList, jobList}\"\"\"\n",
    "query_data = \"\"\"query data ($nationality: String!, $job: String!)\n",
    "            {movieList(nationality: $nationality, job: $job)\n",
    "                {\n",
    "                title \n",
    "                revenue\n",
    "                }}\"\"\"\n",
    "query_introspect = \"\"\"{\n",
    "  __schema {\n",
    "    types {\n",
    "      name\n",
    "    }\n",
    "  }\n",
    "}\"\"\"\n",
    "query_playground = \"\"\"{\"operationName\":\"IntrospectionQuery\",\"variables\":{},\"query\":\"query IntrospectionQuery {\\n  __schema {\\n    queryType {\\n      name\\n    }\\n    mutationType {\\n      name\\n    }\\n    subscriptionType {\\n      name\\n    }\\n    types {\\n      ...FullType\\n    }\\n    directives {\\n      name\\n      description\\n      locations\\n      args {\\n        ...InputValue\\n      }\\n    }\\n  }\\n}\\n\\nfragment FullType on __Type {\\n  kind\\n  name\\n  description\\n  fields(includeDeprecated: true) {\\n    name\\n    description\\n    args {\\n      ...InputValue\\n    }\\n    type {\\n      ...TypeRef\\n    }\\n    isDeprecated\\n    deprecationReason\\n  }\\n  inputFields {\\n    ...InputValue\\n  }\\n  interfaces {\\n    ...TypeRef\\n  }\\n  enumValues(includeDeprecated: true) {\\n    name\\n    description\\n    isDeprecated\\n    deprecationReason\\n  }\\n  possibleTypes {\\n    ...TypeRef\\n  }\\n}\\n\\nfragment InputValue on __InputValue {\\n  name\\n  description\\n  type {\\n    ...TypeRef\\n  }\\n  defaultValue\\n}\\n\\nfragment TypeRef on __Type {\\n  kind\\n  name\\n  ofType {\\n    kind\\n    name\\n    ofType {\\n      kind\\n      name\\n      ofType {\\n        kind\\n        name\\n        ofType {\\n          kind\\n          name\\n          ofType {\\n            kind\\n            name\\n            ofType {\\n              kind\\n              name\\n              ofType {\\n                kind\\n                name\\n              }\\n            }\\n          }\\n        }\\n      }\\n    }\\n  }\\n}\\n\"}\"\"\".replace('\\n', '')"
   ]
  },
  {
   "cell_type": "code",
   "execution_count": 23,
   "metadata": {},
   "outputs": [],
   "source": [
    "input_query_data = json.dumps({'variables': {'nationality': 'English', 'job': 'Director'}, 'query':query_data})\n",
    "input_query_metadata = json.dumps({'query':query_metadata})"
   ]
  },
  {
   "cell_type": "code",
   "execution_count": 24,
   "metadata": {},
   "outputs": [
    {
     "data": {
      "text/plain": [
       "'{\"query\": \"query metadata {nationalityList, jobList}\"}'"
      ]
     },
     "execution_count": 24,
     "metadata": {},
     "output_type": "execute_result"
    }
   ],
   "source": [
    "input_query_metadata"
   ]
  },
  {
   "cell_type": "markdown",
   "metadata": {},
   "source": [
    "# Test handler functions"
   ]
  },
  {
   "cell_type": "code",
   "execution_count": 25,
   "metadata": {},
   "outputs": [],
   "source": [
    "import handler \n",
    "importlib.reload(handler);"
   ]
  },
  {
   "cell_type": "code",
   "execution_count": 29,
   "metadata": {},
   "outputs": [
    {
     "name": "stdout",
     "output_type": "stream",
     "text": [
      "CPU times: user 35.1 ms, sys: 391 µs, total: 35.5 ms\n",
      "Wall time: 35.2 ms\n"
     ]
    },
    {
     "data": {
      "text/plain": [
       "'{\"__schema\": {\"queryType\": {\"name\": \"Query\"}, \"mutationType\": null, \"subscriptionType\": null, \"types\": [{\"kind\": \"OBJECT\", \"name\": \"Query\", \"description\": null, \"fields\": [{\"name\": \"nationalityList\", \"description\": null, \"args\": [], \"type\": {\"kind\": \"NON_NULL\", \"name\": null, \"ofType\": {\"kind\": \"LIST\", \"name\": null, \"ofType\": {\"kind\": \"SCALAR\", \"name\": \"String\", \"ofType\": null}}}, \"isDeprecated\": false, \"deprecationReason\": null}, {\"name\": \"jobList\", \"description\": null, \"args\": [], \"type\": {\"kind\": \"NON_NULL\", \"name\": null, \"ofType\": {\"kind\": \"LIST\", \"name\": null, \"ofType\": {\"kind\": \"SCALAR\", \"name\": \"String\", \"ofType\": null}}}, \"isDeprecated\": false, \"deprecationReason\": null}, {\"name\": \"movieList\", \"description\": null, \"args\": [{\"name\": \"nationality\", \"description\": null, \"type\": {\"kind\": \"SCALAR\", \"name\": \"String\", \"ofType\": null}, \"defaultValue\": \"\\\\\"English\\\\\"\"}, {\"name\": \"job\", \"description\": null, \"type\": {\"kind\": \"SCALAR\", \"name\": \"String\", \"ofType\": null}, \"defaultValue\": \"\\\\\"Director\\\\\"\"}], \"type\": {\"kind\": \"LIST\", \"name\": null, \"ofType\": {\"kind\": \"OBJECT\", \"name\": \"movie\", \"ofType\": null}}, \"isDeprecated\": false, \"deprecationReason\": null}], \"inputFields\": null, \"interfaces\": [], \"enumValues\": null, \"possibleTypes\": null}, {\"kind\": \"SCALAR\", \"name\": \"String\", \"description\": \"The `String` scalar type represents textual data, represented as UTF-8 character sequences. The String type is most often used by GraphQL to represent free-form human-readable text.\", \"fields\": null, \"inputFields\": null, \"interfaces\": null, \"enumValues\": null, \"possibleTypes\": null}, {\"kind\": \"OBJECT\", \"name\": \"movie\", \"description\": null, \"fields\": [{\"name\": \"title\", \"description\": null, \"args\": [], \"type\": {\"kind\": \"NON_NULL\", \"name\": null, \"ofType\": {\"kind\": \"SCALAR\", \"name\": \"String\", \"ofType\": null}}, \"isDeprecated\": false, \"deprecationReason\": null}, {\"name\": \"revenue\", \"description\": null, \"args\": [], \"type\": {\"kind\": \"NON_NULL\", \"name\": null, \"ofType\": {\"kind\": \"SCALAR\", \"name\": \"Int\", \"ofType\": null}}, \"isDeprecated\": false, \"deprecationReason\": null}], \"inputFields\": null, \"interfaces\": [], \"enumValues\": null, \"possibleTypes\": null}, {\"kind\": \"SCALAR\", \"name\": \"Int\", \"description\": \"The `Int` scalar type represents non-fractional signed whole numeric values. Int can represent values between -(2^31 - 1) and 2^31 - 1 since represented in JSON as double-precision floating point numbers specifiedby [IEEE 754](http://en.wikipedia.org/wiki/IEEE_floating_point).\", \"fields\": null, \"inputFields\": null, \"interfaces\": null, \"enumValues\": null, \"possibleTypes\": null}, {\"kind\": \"OBJECT\", \"name\": \"__Schema\", \"description\": \"A GraphQL Schema defines the capabilities of a GraphQL server. It exposes all available types and directives on the server, as well as the entry points for query, mutation and subscription operations.\", \"fields\": [{\"name\": \"types\", \"description\": \"A list of all types supported by this server.\", \"args\": [], \"type\": {\"kind\": \"NON_NULL\", \"name\": null, \"ofType\": {\"kind\": \"LIST\", \"name\": null, \"ofType\": {\"kind\": \"NON_NULL\", \"name\": null, \"ofType\": {\"kind\": \"OBJECT\", \"name\": \"__Type\", \"ofType\": null}}}}, \"isDeprecated\": false, \"deprecationReason\": null}, {\"name\": \"queryType\", \"description\": \"The type that query operations will be rooted at.\", \"args\": [], \"type\": {\"kind\": \"NON_NULL\", \"name\": null, \"ofType\": {\"kind\": \"OBJECT\", \"name\": \"__Type\", \"ofType\": null}}, \"isDeprecated\": false, \"deprecationReason\": null}, {\"name\": \"mutationType\", \"description\": \"If this server supports mutation, the type that mutation operations will be rooted at.\", \"args\": [], \"type\": {\"kind\": \"OBJECT\", \"name\": \"__Type\", \"ofType\": null}, \"isDeprecated\": false, \"deprecationReason\": null}, {\"name\": \"subscriptionType\", \"description\": \"If this server support subscription, the type that subscription operations will be rooted at.\", \"args\": [], \"type\": {\"kind\": \"OBJECT\", \"name\": \"__Type\", \"ofType\": null}, \"isDeprecated\": false, \"deprecationReason\": null}, {\"name\": \"directives\", \"description\": \"A list of all directives supported by this server.\", \"args\": [], \"type\": {\"kind\": \"NON_NULL\", \"name\": null, \"ofType\": {\"kind\": \"LIST\", \"name\": null, \"ofType\": {\"kind\": \"NON_NULL\", \"name\": null, \"ofType\": {\"kind\": \"OBJECT\", \"name\": \"__Directive\", \"ofType\": null}}}}, \"isDeprecated\": false, \"deprecationReason\": null}], \"inputFields\": null, \"interfaces\": [], \"enumValues\": null, \"possibleTypes\": null}, {\"kind\": \"OBJECT\", \"name\": \"__Type\", \"description\": \"The fundamental unit of any GraphQL Schema is the type. There are many kinds of types in GraphQL as represented by the `__TypeKind` enum.\\\\n\\\\nDepending on the kind of a type, certain fields describe information about that type. Scalar types provide no information beyond a name and description, while Enum types provide their values. Object and Interface types provide the fields they describe. Abstract types, Union and Interface, provide the Object types possible at runtime. List and NonNull types compose other types.\", \"fields\": [{\"name\": \"kind\", \"description\": null, \"args\": [], \"type\": {\"kind\": \"NON_NULL\", \"name\": null, \"ofType\": {\"kind\": \"ENUM\", \"name\": \"__TypeKind\", \"ofType\": null}}, \"isDeprecated\": false, \"deprecationReason\": null}, {\"name\": \"name\", \"description\": null, \"args\": [], \"type\": {\"kind\": \"SCALAR\", \"name\": \"String\", \"ofType\": null}, \"isDeprecated\": false, \"deprecationReason\": null}, {\"name\": \"description\", \"description\": null, \"args\": [], \"type\": {\"kind\": \"SCALAR\", \"name\": \"String\", \"ofType\": null}, \"isDeprecated\": false, \"deprecationReason\": null}, {\"name\": \"fields\", \"description\": null, \"args\": [{\"name\": \"includeDeprecated\", \"description\": null, \"type\": {\"kind\": \"SCALAR\", \"name\": \"Boolean\", \"ofType\": null}, \"defaultValue\": \"false\"}], \"type\": {\"kind\": \"LIST\", \"name\": null, \"ofType\": {\"kind\": \"NON_NULL\", \"name\": null, \"ofType\": {\"kind\": \"OBJECT\", \"name\": \"__Field\", \"ofType\": null}}}, \"isDeprecated\": false, \"deprecationReason\": null}, {\"name\": \"interfaces\", \"description\": null, \"args\": [], \"type\": {\"kind\": \"LIST\", \"name\": null, \"ofType\": {\"kind\": \"NON_NULL\", \"name\": null, \"ofType\": {\"kind\": \"OBJECT\", \"name\": \"__Type\", \"ofType\": null}}}, \"isDeprecated\": false, \"deprecationReason\": null}, {\"name\": \"possibleTypes\", \"description\": null, \"args\": [], \"type\": {\"kind\": \"LIST\", \"name\": null, \"ofType\": {\"kind\": \"NON_NULL\", \"name\": null, \"ofType\": {\"kind\": \"OBJECT\", \"name\": \"__Type\", \"ofType\": null}}}, \"isDeprecated\": false, \"deprecationReason\": null}, {\"name\": \"enumValues\", \"description\": null, \"args\": [{\"name\": \"includeDeprecated\", \"description\": null, \"type\": {\"kind\": \"SCALAR\", \"name\": \"Boolean\", \"ofType\": null}, \"defaultValue\": \"false\"}], \"type\": {\"kind\": \"LIST\", \"name\": null, \"ofType\": {\"kind\": \"NON_NULL\", \"name\": null, \"ofType\": {\"kind\": \"OBJECT\", \"name\": \"__EnumValue\", \"ofType\": null}}}, \"isDeprecated\": false, \"deprecationReason\": null}, {\"name\": \"inputFields\", \"description\": null, \"args\": [], \"type\": {\"kind\": \"LIST\", \"name\": null, \"ofType\": {\"kind\": \"NON_NULL\", \"name\": null, \"ofType\": {\"kind\": \"OBJECT\", \"name\": \"__InputValue\", \"ofType\": null}}}, \"isDeprecated\": false, \"deprecationReason\": null}, {\"name\": \"ofType\", \"description\": null, \"args\": [], \"type\": {\"kind\": \"OBJECT\", \"name\": \"__Type\", \"ofType\": null}, \"isDeprecated\": false, \"deprecationReason\": null}], \"inputFields\": null, \"interfaces\": [], \"enumValues\": null, \"possibleTypes\": null}, {\"kind\": \"ENUM\", \"name\": \"__TypeKind\", \"description\": \"An enum describing what kind of type a given `__Type` is\", \"fields\": null, \"inputFields\": null, \"interfaces\": null, \"enumValues\": [{\"name\": \"SCALAR\", \"description\": \"Indicates this type is a scalar.\", \"isDeprecated\": false, \"deprecationReason\": null}, {\"name\": \"OBJECT\", \"description\": \"Indicates this type is an object. `fields` and `interfaces` are valid fields.\", \"isDeprecated\": false, \"deprecationReason\": null}, {\"name\": \"INTERFACE\", \"description\": \"Indicates this type is an interface. `fields` and `possibleTypes` are valid fields.\", \"isDeprecated\": false, \"deprecationReason\": null}, {\"name\": \"UNION\", \"description\": \"Indicates this type is a union. `possibleTypes` is a valid field.\", \"isDeprecated\": false, \"deprecationReason\": null}, {\"name\": \"ENUM\", \"description\": \"Indicates this type is an enum. `enumValues` is a valid field.\", \"isDeprecated\": false, \"deprecationReason\": null}, {\"name\": \"INPUT_OBJECT\", \"description\": \"Indicates this type is an input object. `inputFields` is a valid field.\", \"isDeprecated\": false, \"deprecationReason\": null}, {\"name\": \"LIST\", \"description\": \"Indicates this type is a list. `ofType` is a valid field.\", \"isDeprecated\": false, \"deprecationReason\": null}, {\"name\": \"NON_NULL\", \"description\": \"Indicates this type is a non-null. `ofType` is a valid field.\", \"isDeprecated\": false, \"deprecationReason\": null}], \"possibleTypes\": null}, {\"kind\": \"SCALAR\", \"name\": \"Boolean\", \"description\": \"The `Boolean` scalar type represents `true` or `false`.\", \"fields\": null, \"inputFields\": null, \"interfaces\": null, \"enumValues\": null, \"possibleTypes\": null}, {\"kind\": \"OBJECT\", \"name\": \"__Field\", \"description\": \"Object and Interface types are described by a list of Fields, each of which has a name, potentially a list of arguments, and a return type.\", \"fields\": [{\"name\": \"name\", \"description\": null, \"args\": [], \"type\": {\"kind\": \"NON_NULL\", \"name\": null, \"ofType\": {\"kind\": \"SCALAR\", \"name\": \"String\", \"ofType\": null}}, \"isDeprecated\": false, \"deprecationReason\": null}, {\"name\": \"description\", \"description\": null, \"args\": [], \"type\": {\"kind\": \"SCALAR\", \"name\": \"String\", \"ofType\": null}, \"isDeprecated\": false, \"deprecationReason\": null}, {\"name\": \"args\", \"description\": null, \"args\": [], \"type\": {\"kind\": \"NON_NULL\", \"name\": null, \"ofType\": {\"kind\": \"LIST\", \"name\": null, \"ofType\": {\"kind\": \"NON_NULL\", \"name\": null, \"ofType\": {\"kind\": \"OBJECT\", \"name\": \"__InputValue\", \"ofType\": null}}}}, \"isDeprecated\": false, \"deprecationReason\": null}, {\"name\": \"type\", \"description\": null, \"args\": [], \"type\": {\"kind\": \"NON_NULL\", \"name\": null, \"ofType\": {\"kind\": \"OBJECT\", \"name\": \"__Type\", \"ofType\": null}}, \"isDeprecated\": false, \"deprecationReason\": null}, {\"name\": \"isDeprecated\", \"description\": null, \"args\": [], \"type\": {\"kind\": \"NON_NULL\", \"name\": null, \"ofType\": {\"kind\": \"SCALAR\", \"name\": \"Boolean\", \"ofType\": null}}, \"isDeprecated\": false, \"deprecationReason\": null}, {\"name\": \"deprecationReason\", \"description\": null, \"args\": [], \"type\": {\"kind\": \"SCALAR\", \"name\": \"String\", \"ofType\": null}, \"isDeprecated\": false, \"deprecationReason\": null}], \"inputFields\": null, \"interfaces\": [], \"enumValues\": null, \"possibleTypes\": null}, {\"kind\": \"OBJECT\", \"name\": \"__InputValue\", \"description\": \"Arguments provided to Fields or Directives and the input fields of an InputObject are represented as Input Values which describe their type and optionally a default value.\", \"fields\": [{\"name\": \"name\", \"description\": null, \"args\": [], \"type\": {\"kind\": \"NON_NULL\", \"name\": null, \"ofType\": {\"kind\": \"SCALAR\", \"name\": \"String\", \"ofType\": null}}, \"isDeprecated\": false, \"deprecationReason\": null}, {\"name\": \"description\", \"description\": null, \"args\": [], \"type\": {\"kind\": \"SCALAR\", \"name\": \"String\", \"ofType\": null}, \"isDeprecated\": false, \"deprecationReason\": null}, {\"name\": \"type\", \"description\": null, \"args\": [], \"type\": {\"kind\": \"NON_NULL\", \"name\": null, \"ofType\": {\"kind\": \"OBJECT\", \"name\": \"__Type\", \"ofType\": null}}, \"isDeprecated\": false, \"deprecationReason\": null}, {\"name\": \"defaultValue\", \"description\": null, \"args\": [], \"type\": {\"kind\": \"SCALAR\", \"name\": \"String\", \"ofType\": null}, \"isDeprecated\": false, \"deprecationReason\": null}], \"inputFields\": null, \"interfaces\": [], \"enumValues\": null, \"possibleTypes\": null}, {\"kind\": \"OBJECT\", \"name\": \"__EnumValue\", \"description\": \"One possible value for a given Enum. Enum values are unique values, not a placeholder for a string or numeric value. However an Enum value is returned in a JSON response as a string.\", \"fields\": [{\"name\": \"name\", \"description\": null, \"args\": [], \"type\": {\"kind\": \"NON_NULL\", \"name\": null, \"ofType\": {\"kind\": \"SCALAR\", \"name\": \"String\", \"ofType\": null}}, \"isDeprecated\": false, \"deprecationReason\": null}, {\"name\": \"description\", \"description\": null, \"args\": [], \"type\": {\"kind\": \"SCALAR\", \"name\": \"String\", \"ofType\": null}, \"isDeprecated\": false, \"deprecationReason\": null}, {\"name\": \"isDeprecated\", \"description\": null, \"args\": [], \"type\": {\"kind\": \"NON_NULL\", \"name\": null, \"ofType\": {\"kind\": \"SCALAR\", \"name\": \"Boolean\", \"ofType\": null}}, \"isDeprecated\": false, \"deprecationReason\": null}, {\"name\": \"deprecationReason\", \"description\": null, \"args\": [], \"type\": {\"kind\": \"SCALAR\", \"name\": \"String\", \"ofType\": null}, \"isDeprecated\": false, \"deprecationReason\": null}], \"inputFields\": null, \"interfaces\": [], \"enumValues\": null, \"possibleTypes\": null}, {\"kind\": \"OBJECT\", \"name\": \"__Directive\", \"description\": \"A Directive provides a way to describe alternate runtime execution and type validation behavior in a GraphQL document.\\\\n\\\\nIn some cases, you need to provide options to alter GraphQL\\'s execution behavior in ways field arguments will not suffice, such as conditionally including or skipping a field. Directives provide this by describing additional information to the executor.\", \"fields\": [{\"name\": \"name\", \"description\": null, \"args\": [], \"type\": {\"kind\": \"NON_NULL\", \"name\": null, \"ofType\": {\"kind\": \"SCALAR\", \"name\": \"String\", \"ofType\": null}}, \"isDeprecated\": false, \"deprecationReason\": null}, {\"name\": \"description\", \"description\": null, \"args\": [], \"type\": {\"kind\": \"SCALAR\", \"name\": \"String\", \"ofType\": null}, \"isDeprecated\": false, \"deprecationReason\": null}, {\"name\": \"locations\", \"description\": null, \"args\": [], \"type\": {\"kind\": \"NON_NULL\", \"name\": null, \"ofType\": {\"kind\": \"LIST\", \"name\": null, \"ofType\": {\"kind\": \"NON_NULL\", \"name\": null, \"ofType\": {\"kind\": \"ENUM\", \"name\": \"__DirectiveLocation\", \"ofType\": null}}}}, \"isDeprecated\": false, \"deprecationReason\": null}, {\"name\": \"args\", \"description\": null, \"args\": [], \"type\": {\"kind\": \"NON_NULL\", \"name\": null, \"ofType\": {\"kind\": \"LIST\", \"name\": null, \"ofType\": {\"kind\": \"NON_NULL\", \"name\": null, \"ofType\": {\"kind\": \"OBJECT\", \"name\": \"__InputValue\", \"ofType\": null}}}}, \"isDeprecated\": false, \"deprecationReason\": null}, {\"name\": \"onOperation\", \"description\": null, \"args\": [], \"type\": {\"kind\": \"NON_NULL\", \"name\": null, \"ofType\": {\"kind\": \"SCALAR\", \"name\": \"Boolean\", \"ofType\": null}}, \"isDeprecated\": true, \"deprecationReason\": \"Use `locations`.\"}, {\"name\": \"onFragment\", \"description\": null, \"args\": [], \"type\": {\"kind\": \"NON_NULL\", \"name\": null, \"ofType\": {\"kind\": \"SCALAR\", \"name\": \"Boolean\", \"ofType\": null}}, \"isDeprecated\": true, \"deprecationReason\": \"Use `locations`.\"}, {\"name\": \"onField\", \"description\": null, \"args\": [], \"type\": {\"kind\": \"NON_NULL\", \"name\": null, \"ofType\": {\"kind\": \"SCALAR\", \"name\": \"Boolean\", \"ofType\": null}}, \"isDeprecated\": true, \"deprecationReason\": \"Use `locations`.\"}], \"inputFields\": null, \"interfaces\": [], \"enumValues\": null, \"possibleTypes\": null}, {\"kind\": \"ENUM\", \"name\": \"__DirectiveLocation\", \"description\": \"A Directive can be adjacent to many parts of the GraphQL language, a __DirectiveLocation describes one such possible adjacencies.\", \"fields\": null, \"inputFields\": null, \"interfaces\": null, \"enumValues\": [{\"name\": \"QUERY\", \"description\": \"Location adjacent to a query operation.\", \"isDeprecated\": false, \"deprecationReason\": null}, {\"name\": \"MUTATION\", \"description\": \"Location adjacent to a mutation operation.\", \"isDeprecated\": false, \"deprecationReason\": null}, {\"name\": \"SUBSCRIPTION\", \"description\": \"Location adjacent to a subscription operation.\", \"isDeprecated\": false, \"deprecationReason\": null}, {\"name\": \"FIELD\", \"description\": \"Location adjacent to a field.\", \"isDeprecated\": false, \"deprecationReason\": null}, {\"name\": \"FRAGMENT_DEFINITION\", \"description\": \"Location adjacent to a fragment definition.\", \"isDeprecated\": false, \"deprecationReason\": null}, {\"name\": \"FRAGMENT_SPREAD\", \"description\": \"Location adjacent to a fragment spread.\", \"isDeprecated\": false, \"deprecationReason\": null}, {\"name\": \"INLINE_FRAGMENT\", \"description\": \"Location adjacent to an inline fragment.\", \"isDeprecated\": false, \"deprecationReason\": null}, {\"name\": \"SCHEMA\", \"description\": \"Location adjacent to a schema definition.\", \"isDeprecated\": false, \"deprecationReason\": null}, {\"name\": \"SCALAR\", \"description\": \"Location adjacent to a scalar definition.\", \"isDeprecated\": false, \"deprecationReason\": null}, {\"name\": \"OBJECT\", \"description\": \"Location adjacent to an object definition.\", \"isDeprecated\": false, \"deprecationReason\": null}, {\"name\": \"FIELD_DEFINITION\", \"description\": \"Location adjacent to a field definition.\", \"isDeprecated\": false, \"deprecationReason\": null}, {\"name\": \"ARGUMENT_DEFINITION\", \"description\": \"Location adjacent to an argument definition.\", \"isDeprecated\": false, \"deprecationReason\": null}, {\"name\": \"INTERFACE\", \"description\": \"Location adjacent to an interface definition.\", \"isDeprecated\": false, \"deprecationReason\": null}, {\"name\": \"UNION\", \"description\": \"Location adjacent to a union definition.\", \"isDeprecated\": false, \"deprecationReason\": null}, {\"name\": \"ENUM\", \"description\": \"Location adjacent to an enum definition.\", \"isDeprecated\": false, \"deprecationReason\": null}, {\"name\": \"ENUM_VALUE\", \"description\": \"Location adjacent to an enum value definition.\", \"isDeprecated\": false, \"deprecationReason\": null}, {\"name\": \"INPUT_OBJECT\", \"description\": \"Location adjacent to an input object definition.\", \"isDeprecated\": false, \"deprecationReason\": null}, {\"name\": \"INPUT_FIELD_DEFINITION\", \"description\": \"Location adjacent to an input object field definition.\", \"isDeprecated\": false, \"deprecationReason\": null}], \"possibleTypes\": null}], \"directives\": [{\"name\": \"include\", \"description\": \"Directs the executor to include this field or fragment only when the `if` argument is true.\", \"locations\": [\"FIELD\", \"FRAGMENT_SPREAD\", \"INLINE_FRAGMENT\"], \"args\": [{\"name\": \"if\", \"description\": \"Included when true.\", \"type\": {\"kind\": \"NON_NULL\", \"name\": null, \"ofType\": {\"kind\": \"SCALAR\", \"name\": \"Boolean\", \"ofType\": null}}, \"defaultValue\": null}]}, {\"name\": \"skip\", \"description\": \"Directs the executor to skip this field or fragment when the `if` argument is true.\", \"locations\": [\"FIELD\", \"FRAGMENT_SPREAD\", \"INLINE_FRAGMENT\"], \"args\": [{\"name\": \"if\", \"description\": \"Skipped when true.\", \"type\": {\"kind\": \"NON_NULL\", \"name\": null, \"ofType\": {\"kind\": \"SCALAR\", \"name\": \"Boolean\", \"ofType\": null}}, \"defaultValue\": null}]}]}}'"
      ]
     },
     "execution_count": 29,
     "metadata": {},
     "output_type": "execute_result"
    }
   ],
   "source": [
    "%%time\n",
    "handler.handle(query_playground)"
   ]
  },
  {
   "cell_type": "code",
   "execution_count": 283,
   "metadata": {},
   "outputs": [],
   "source": [
    "with open(str(bundle_root / 'functions/index_by_nationality/schema.json'), 'w') as fp:\n",
    "    json.dump(handler.schema.introspect(), fp)"
   ]
  },
  {
   "cell_type": "markdown",
   "metadata": {},
   "source": [
    "# Deploy function"
   ]
  },
  {
   "cell_type": "markdown",
   "metadata": {},
   "source": [
    "### cheat sheet"
   ]
  },
  {
   "cell_type": "code",
   "execution_count": 6,
   "metadata": {},
   "outputs": [],
   "source": [
    "# labs bundle deploy staging (deploy to staging)\n",
    "# labs bundle build classify_name (build locally for debugging)\n",
    "# labs function run sunburst -d '{\"date_range\": [20180201,20180401], \"max_level\":4, \"threshold\":1000, \"operating_system\": \"all\"}' (example local call)"
   ]
  },
  {
   "cell_type": "code",
   "execution_count": null,
   "metadata": {},
   "outputs": [],
   "source": [
    "#labs bundle build classify_name && docker run -it --rm --name function_test -p 5000:5000 classify_name python index.py"
   ]
  },
  {
   "cell_type": "markdown",
   "metadata": {},
   "source": [
    "# Test function "
   ]
  },
  {
   "cell_type": "code",
   "execution_count": 263,
   "metadata": {},
   "outputs": [],
   "source": [
    "function_url = 'https://labs.cloud.contiamo.com/21b899ae-3eba-56a7-97da-fa26c050d1c5/v1/function/26a6b514-0324-4078-abc7-953d851c3aa4/index_by_nationality'"
   ]
  },
  {
   "cell_type": "code",
   "execution_count": 289,
   "metadata": {},
   "outputs": [
    {
     "name": "stdout",
     "output_type": "stream",
     "text": [
      "CPU times: user 20.2 ms, sys: 0 ns, total: 20.2 ms\n",
      "Wall time: 215 ms\n"
     ]
    }
   ],
   "source": [
    "%%time\n",
    "deployed_output = requests.post(function_url,\n",
    "                                data=query_introspect).json()"
   ]
  },
  {
   "cell_type": "code",
   "execution_count": 290,
   "metadata": {},
   "outputs": [
    {
     "data": {
      "text/plain": [
       "{'__schema': {'types': [{'name': 'Query'},\n",
       "   {'name': 'String'},\n",
       "   {'name': 'movie'},\n",
       "   {'name': 'Int'},\n",
       "   {'name': '__Schema'},\n",
       "   {'name': '__Type'},\n",
       "   {'name': '__TypeKind'},\n",
       "   {'name': 'Boolean'},\n",
       "   {'name': '__Field'},\n",
       "   {'name': '__InputValue'},\n",
       "   {'name': '__EnumValue'},\n",
       "   {'name': '__Directive'},\n",
       "   {'name': '__DirectiveLocation'}]}}"
      ]
     },
     "execution_count": 290,
     "metadata": {},
     "output_type": "execute_result"
    }
   ],
   "source": [
    "deployed_output"
   ]
  },
  {
   "cell_type": "markdown",
   "metadata": {},
   "source": [
    "### Compare"
   ]
  },
  {
   "cell_type": "code",
   "execution_count": 165,
   "metadata": {},
   "outputs": [
    {
     "data": {
      "text/plain": [
       "True"
      ]
     },
     "execution_count": 165,
     "metadata": {},
     "output_type": "execute_result"
    }
   ],
   "source": [
    "output['sunburst_data'] == deployed_output['sunburst_data']"
   ]
  }
 ],
 "metadata": {
  "kernelspec": {
   "display_name": "Python 3",
   "language": "python",
   "name": "python3"
  },
  "language_info": {
   "codemirror_mode": {
    "name": "ipython",
    "version": 3
   },
   "file_extension": ".py",
   "mimetype": "text/x-python",
   "name": "python",
   "nbconvert_exporter": "python",
   "pygments_lexer": "ipython3",
   "version": "3.6.3"
  }
 },
 "nbformat": 4,
 "nbformat_minor": 2
}
