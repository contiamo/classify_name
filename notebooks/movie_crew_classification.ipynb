{
 "cells": [
  {
   "cell_type": "markdown",
   "metadata": {},
   "source": [
    "# Setup"
   ]
  },
  {
   "cell_type": "code",
   "execution_count": 139,
   "metadata": {},
   "outputs": [],
   "source": [
    "import glob\n",
    "import importlib\n",
    "import os\n",
    "import string\n",
    "import sys\n",
    "import torch\n",
    "import typing\n",
    "import unicodedata\n",
    "\n",
    "\n",
    "nn = torch.nn\n",
    "\n",
    "from __future__ import unicode_literals, print_function, division\n",
    "from io import open\n",
    "import pandas as pd\n",
    "import pathlib\n",
    "from torch.autograd import Variable\n",
    "\n",
    "bundle_root = pathlib.Path(os.environ.get('LABS_BUNDLE_ROOT', '/labs'))\n",
    "sys.path.append(str(bundle_root / 'functions'))\n",
    "sys.path.append(str(bundle_root /  'common'))\n",
    "import utils\n",
    "importlib.reload(utils);"
   ]
  },
  {
   "cell_type": "markdown",
   "metadata": {},
   "source": [
    "# Get Data from pantheon"
   ]
  },
  {
   "cell_type": "code",
   "execution_count": 146,
   "metadata": {},
   "outputs": [
    {
     "name": "stdout",
     "output_type": "stream",
     "text": [
      "CPU times: user 65.7 ms, sys: 19 µs, total: 65.7 ms\n",
      "Wall time: 5.06 s\n"
     ]
    }
   ],
   "source": [
    "%%time\n",
    "df = utils.query_pantheon('https://pantheon.cloud.contiamo.com/contiamo-next/catalogs/73399930-b7b6-5206-82f8-40fad7134ccf/savedQueries/54e7e0f0-ff71-11e8-aaf3-c74014fd0807/execute')"
   ]
  },
  {
   "cell_type": "code",
   "execution_count": null,
   "metadata": {},
   "outputs": [],
   "source": [
    "df"
   ]
  },
  {
   "cell_type": "markdown",
   "metadata": {},
   "source": [
    "# Add nationality column to crew list "
   ]
  },
  {
   "cell_type": "code",
   "execution_count": 67,
   "metadata": {},
   "outputs": [],
   "source": [
    "crew = pd.read_parquet(bundle_root / 'data/processed/crew.parquet')"
   ]
  },
  {
   "cell_type": "code",
   "execution_count": 18,
   "metadata": {},
   "outputs": [
    {
     "name": "stdout",
     "output_type": "stream",
     "text": [
      "CPU times: user 1h 48min 13s, sys: 1min 3s, total: 1h 49min 17s\n",
      "Wall time: 55min 19s\n"
     ]
    }
   ],
   "source": [
    "%%time\n",
    "crew = crew.assign(nationality = lambda s:s['name_'].apply(get_name_nationality))"
   ]
  },
  {
   "cell_type": "code",
   "execution_count": 19,
   "metadata": {},
   "outputs": [],
   "source": [
    "crew.to_parquet(bundle_root / 'common/crew_with_nationality.parquet')"
   ]
  }
 ],
 "metadata": {
  "kernelspec": {
   "display_name": "Python 3",
   "language": "python",
   "name": "python3"
  },
  "language_info": {
   "codemirror_mode": {
    "name": "ipython",
    "version": 3
   },
   "file_extension": ".py",
   "mimetype": "text/x-python",
   "name": "python",
   "nbconvert_exporter": "python",
   "pygments_lexer": "ipython3",
   "version": "3.6.3"
  }
 },
 "nbformat": 4,
 "nbformat_minor": 2
}
