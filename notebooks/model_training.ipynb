{
 "cells": [
  {
   "cell_type": "markdown",
   "metadata": {},
   "source": [
    "\n",
    "Classifying Names with a Character-Level RNN\n",
    "*********************************************\n",
    "We will be building and training a basic character-level RNN to classify\n",
    "words. A character-level RNN reads words as a series of characters -\n",
    "outputting a prediction and \"hidden state\" at each step, feeding its\n",
    "previous hidden state into each next step. We take the final prediction\n",
    "to be the output, i.e. which class the word belongs to.\n",
    "\n",
    "Specifically, we'll train on a few thousand surnames from 18 languages\n",
    "of origin, and predict which language a name is from based on the\n",
    "spelling:\n",
    "\n",
    "::\n",
    "\n",
    "    $ python predict.py Hinton\n",
    "    (-0.47) Scottish\n",
    "    (-1.52) English\n",
    "    (-3.57) Irish\n",
    "\n",
    "    $ python predict.py Schmidhuber\n",
    "    (-0.19) German\n",
    "    (-2.48) Czech\n",
    "    (-2.68) Dutch\n",
    "\n",
    "\n",
    "**Recommended Reading:**\n",
    "\n",
    "I assume you have at least installed PyTorch, know Python, and\n",
    "understand Tensors:\n",
    "\n",
    "-  http://pytorch.org/ For installation instructions\n",
    "-  :doc:`/beginner/deep_learning_60min_blitz` to get started with PyTorch in general\n",
    "-  :doc:`/beginner/pytorch_with_examples` for a wide and deep overview\n",
    "-  :doc:`/beginner/former_torchies_tutorial` if you are former Lua Torch user\n",
    "\n",
    "It would also be useful to know about RNNs and how they work:\n",
    "\n",
    "-  `The Unreasonable Effectiveness of Recurrent Neural\n",
    "   Networks <http://karpathy.github.io/2015/05/21/rnn-effectiveness/>`__\n",
    "   shows a bunch of real life examples\n",
    "-  `Understanding LSTM\n",
    "   Networks <http://colah.github.io/posts/2015-08-Understanding-LSTMs/>`__\n",
    "   is about LSTMs specifically but also informative about RNNs in\n",
    "   general\n",
    "\n",
    "Preparing the Data\n",
    "==================\n",
    "\n",
    ".. Note::\n",
    "   Download the data from\n",
    "   `here <https://download.pytorch.org/tutorial/data.zip>`_\n",
    "   and extract it to the current directory.\n",
    "\n",
    "Included in the ``data/names`` directory are 18 text files named as\n",
    "\"[Language].txt\". Each file contains a bunch of names, one name per\n",
    "line, mostly romanized (but we still need to convert from Unicode to\n",
    "ASCII).\n",
    "\n",
    "We'll end up with a dictionary of lists of names per language,\n",
    "``{language: [names ...]}``. The generic variables \"category\" and \"line\"\n",
    "(for language and name in our case) are used for later extensibility.\n",
    "\n"
   ]
  },
  {
   "cell_type": "code",
   "execution_count": 1,
   "metadata": {},
   "outputs": [],
   "source": [
    "import glob\n",
    "import importlib\n",
    "import os\n",
    "import string\n",
    "import sys\n",
    "import torch\n",
    "import unicodedata\n",
    "\n",
    "nn = torch.nn\n",
    "\n",
    "from __future__ import unicode_literals, print_function, division\n",
    "from io import open\n",
    "from pathlib import PurePath, Path\n",
    "\n",
    "bundle_root = os.environ.get('LABS_BUNDLE_ROOT', '/labs')\n",
    "sys.path.append(str(PurePath(bundle_root, 'functions')))\n",
    "sys.path.append(str(PurePath(bundle_root, 'common')))\n",
    "import utils\n",
    "importlib.reload(utils);"
   ]
  },
  {
   "cell_type": "code",
   "execution_count": 2,
   "metadata": {},
   "outputs": [
    {
     "name": "stdout",
     "output_type": "stream",
     "text": [
      "Slusarski\n",
      "Irish\n",
      "Japanese\n",
      "Greek\n",
      "Polish\n",
      "Russian\n",
      "Vietnamese\n",
      "French\n",
      "English\n",
      "Dutch\n",
      "Italian\n",
      "Scottish\n",
      "Portuguese\n",
      "Arabic\n",
      "Spanish\n",
      "Chinese\n",
      "German\n",
      "Czech\n",
      "Korean\n"
     ]
    }
   ],
   "source": [
    "%matplotlib inline\n",
    "\n",
    "all_letters = string.ascii_letters + \" .,;'\"\n",
    "n_letters = len(all_letters)\n",
    "\n",
    "# Turn a Unicode string to plain ASCII, thanks to http://stackoverflow.com/a/518232/2809427\n",
    "def unicodeToAscii(s):\n",
    "    return ''.join(\n",
    "        c for c in unicodedata.normalize('NFD', s)\n",
    "        if unicodedata.category(c) != 'Mn'\n",
    "        and c in all_letters\n",
    "    )\n",
    "\n",
    "print(unicodeToAscii('Ślusàrski'))\n",
    "\n",
    "# Build the category_lines dictionary, a list of names per language\n",
    "category_lines = {}\n",
    "all_categories = []\n",
    "\n",
    "# Read a file and split into lines\n",
    "def readLines(filename):\n",
    "    lines = open(filename, encoding='utf-8').read().strip().split('\\n')\n",
    "    return [unicodeToAscii(line) for line in lines]\n",
    "\n",
    "for path in Path(bundle_root, 'data/raw/names').glob('*.txt'):\n",
    "    path = str(path)\n",
    "    category = path.split('/')[-1].split('.')[0]\n",
    "    print(category)\n",
    "    all_categories.append(category)\n",
    "    lines = readLines(path)\n",
    "    category_lines[category] = lines\n",
    "\n",
    "n_categories = len(all_categories)"
   ]
  },
  {
   "cell_type": "markdown",
   "metadata": {},
   "source": [
    "Turning Names into Tensors\n",
    "--------------------------\n",
    "\n",
    "Now that we have all the names organized, we need to turn them into\n",
    "Tensors to make any use of them.\n",
    "\n",
    "To represent a single letter, we use a \"one-hot vector\" of size\n",
    "``<1 x n_letters>``. A one-hot vector is filled with 0s except for a 1\n",
    "at index of the current letter, e.g. ``\"b\" = <0 1 0 0 0 ...>``.\n",
    "\n",
    "To make a word we join a bunch of those into a 2D matrix\n",
    "``<line_length x 1 x n_letters>``.\n",
    "\n",
    "That extra 1 dimension is because PyTorch assumes everything is in\n",
    "batches - we're just using a batch size of 1 here.\n",
    "\n",
    "\n"
   ]
  },
  {
   "cell_type": "code",
   "execution_count": 3,
   "metadata": {
    "collapsed": false
   },
   "outputs": [
    {
     "name": "stdout",
     "output_type": "stream",
     "text": [
      "tensor([[0., 0., 0., 0., 0., 0., 0., 0., 0., 0., 0., 0., 0., 0., 0., 0., 0., 0.,\n",
      "         0., 0., 0., 0., 0., 0., 0., 0., 0., 0., 0., 0., 0., 0., 0., 0., 0., 1.,\n",
      "         0., 0., 0., 0., 0., 0., 0., 0., 0., 0., 0., 0., 0., 0., 0., 0., 0., 0.,\n",
      "         0., 0., 0.]])\n",
      "torch.Size([5, 1, 57])\n"
     ]
    }
   ],
   "source": [
    "# Find letter index from all_letters, e.g. \"a\" = 0\n",
    "def letterToIndex(letter):\n",
    "    return all_letters.find(letter)\n",
    "\n",
    "# Just for demonstration, turn a letter into a <1 x n_letters> Tensor\n",
    "def letterToTensor(letter):\n",
    "    tensor = torch.zeros(1, n_letters)\n",
    "    tensor[0][letterToIndex(letter)] = 1\n",
    "    return tensor\n",
    "\n",
    "# Turn a line into a <line_length x 1 x n_letters>,\n",
    "# or an array of one-hot letter vectors\n",
    "def lineToTensor(line):\n",
    "    tensor = torch.zeros(len(line), 1, n_letters)\n",
    "    for li, letter in enumerate(line):\n",
    "        tensor[li][0][letterToIndex(letter)] = 1\n",
    "    return tensor\n",
    "\n",
    "print(letterToTensor('J'))\n",
    "\n",
    "print(lineToTensor('Jones').size())"
   ]
  },
  {
   "cell_type": "markdown",
   "metadata": {},
   "source": [
    "Creating the Network\n",
    "====================\n",
    "\n",
    "Before autograd, creating a recurrent neural network in Torch involved\n",
    "cloning the parameters of a layer over several timesteps. The layers\n",
    "held hidden state and gradients which are now entirely handled by the\n",
    "graph itself. This means you can implement a RNN in a very \"pure\" way,\n",
    "as regular feed-forward layers.\n",
    "\n",
    "This RNN module (mostly copied from `the PyTorch for Torch users\n",
    "tutorial <http://pytorch.org/tutorials/beginner/former_torchies/\n",
    "nn_tutorial.html#example-2-recurrent-net>`__)\n",
    "is just 2 linear layers which operate on an input and hidden state, with\n",
    "a LogSoftmax layer after the output.\n",
    "\n",
    ".. figure:: https://i.imgur.com/Z2xbySO.png\n",
    "   :alt:\n",
    "\n",
    "\n",
    "\n"
   ]
  },
  {
   "cell_type": "code",
   "execution_count": 4,
   "metadata": {},
   "outputs": [],
   "source": [
    "importlib.reload(utils)\n",
    "rnn = utils.RNN(utils.n_letters, utils.n_hidden, utils.n_categories)"
   ]
  },
  {
   "cell_type": "markdown",
   "metadata": {},
   "source": [
    "To run a step of this network we need to pass an input (in our case, the\n",
    "Tensor for the current letter) and a previous hidden state (which we\n",
    "initialize as zeros at first). We'll get back the output (probability of\n",
    "each language) and a next hidden state (which we keep for the next\n",
    "step).\n",
    "\n",
    "\n"
   ]
  },
  {
   "cell_type": "code",
   "execution_count": 5,
   "metadata": {
    "collapsed": false
   },
   "outputs": [],
   "source": [
    "input = letterToTensor('A')\n",
    "hidden =torch.zeros(1, utils.n_hidden)\n",
    "\n",
    "output, next_hidden = rnn(input, hidden)"
   ]
  },
  {
   "cell_type": "markdown",
   "metadata": {},
   "source": [
    "For the sake of efficiency we don't want to be creating a new Tensor for\n",
    "every step, so we will use ``lineToTensor`` instead of\n",
    "``letterToTensor`` and use slices. This could be further optimized by\n",
    "pre-computing batches of Tensors.\n",
    "\n",
    "\n"
   ]
  },
  {
   "cell_type": "code",
   "execution_count": 6,
   "metadata": {
    "collapsed": false
   },
   "outputs": [
    {
     "name": "stdout",
     "output_type": "stream",
     "text": [
      "tensor([[-2.9521, -2.9516, -2.9091, -2.9267, -2.8768, -2.8664, -2.9210, -2.8972,\n",
      "         -2.8475, -2.8944, -2.9095, -2.8221, -2.8257, -2.8645, -2.8441, -2.9549,\n",
      "         -2.9027, -2.8752]], grad_fn=<LogSoftmaxBackward>)\n"
     ]
    }
   ],
   "source": [
    "input = lineToTensor('Albert')\n",
    "hidden = torch.zeros(1, utils.n_hidden)\n",
    "\n",
    "output, next_hidden = rnn(input[0], hidden)\n",
    "print(output)"
   ]
  },
  {
   "cell_type": "markdown",
   "metadata": {},
   "source": [
    "As you can see the output is a ``<1 x n_categories>`` Tensor, where\n",
    "every item is the likelihood of that category (higher is more likely).\n",
    "\n",
    "\n"
   ]
  },
  {
   "cell_type": "markdown",
   "metadata": {},
   "source": [
    "Training\n",
    "========\n",
    "Preparing for Training\n",
    "----------------------\n",
    "\n",
    "Before going into training we should make a few helper functions. The\n",
    "first is to interpret the output of the network, which we know to be a\n",
    "likelihood of each category. We can use ``Tensor.topk`` to get the index\n",
    "of the greatest value:\n",
    "\n",
    "\n"
   ]
  },
  {
   "cell_type": "code",
   "execution_count": 7,
   "metadata": {
    "collapsed": false
   },
   "outputs": [
    {
     "name": "stdout",
     "output_type": "stream",
     "text": [
      "('Portuguese', 11)\n"
     ]
    }
   ],
   "source": [
    "def categoryFromOutput(output):\n",
    "    top_n, top_i = output.topk(1)\n",
    "    category_i = top_i[0].item()\n",
    "    return all_categories[category_i], category_i\n",
    "\n",
    "print(categoryFromOutput(output))"
   ]
  },
  {
   "cell_type": "markdown",
   "metadata": {},
   "source": [
    "We will also want a quick way to get a training example (a name and its\n",
    "language):\n",
    "\n",
    "\n"
   ]
  },
  {
   "cell_type": "code",
   "execution_count": 8,
   "metadata": {
    "collapsed": false
   },
   "outputs": [
    {
     "name": "stdout",
     "output_type": "stream",
     "text": [
      "category = Polish / line = Pasternack\n",
      "category = Portuguese / line = Silva\n",
      "category = Arabic / line = Kanaan\n",
      "category = Italian / line = Nepi\n",
      "category = English / line = Crabtree\n",
      "category = Irish / line = Quigley\n",
      "category = Arabic / line = Nazari\n",
      "category = Dutch / line = Dale\n",
      "category = Spanish / line = Delgado\n",
      "category = Scottish / line = Mcgregor\n"
     ]
    }
   ],
   "source": [
    "import random\n",
    "\n",
    "def randomChoice(l):\n",
    "    return l[random.randint(0, len(l) - 1)]\n",
    "\n",
    "def randomTrainingExample():\n",
    "    category = randomChoice(all_categories)\n",
    "    line = randomChoice(category_lines[category])\n",
    "    category_tensor = torch.tensor([all_categories.index(category)], dtype=torch.long)\n",
    "    line_tensor = lineToTensor(line)\n",
    "    return category, line, category_tensor, line_tensor\n",
    "\n",
    "for i in range(10):\n",
    "    category, line, category_tensor, line_tensor = randomTrainingExample()\n",
    "    print('category =', category, '/ line =', line)"
   ]
  },
  {
   "cell_type": "markdown",
   "metadata": {},
   "source": [
    "Training the Network\n",
    "--------------------\n",
    "\n",
    "Now all it takes to train this network is show it a bunch of examples,\n",
    "have it make guesses, and tell it if it's wrong.\n",
    "\n",
    "For the loss function ``nn.NLLLoss`` is appropriate, since the last\n",
    "layer of the RNN is ``nn.LogSoftmax``.\n",
    "\n",
    "\n"
   ]
  },
  {
   "cell_type": "code",
   "execution_count": 9,
   "metadata": {
    "collapsed": false
   },
   "outputs": [],
   "source": [
    "criterion = nn.NLLLoss()"
   ]
  },
  {
   "cell_type": "markdown",
   "metadata": {},
   "source": [
    "Each loop of training will:\n",
    "\n",
    "-  Create input and target tensors\n",
    "-  Create a zeroed initial hidden state\n",
    "-  Read each letter in and\n",
    "\n",
    "   -  Keep hidden state for next letter\n",
    "\n",
    "-  Compare final output to target\n",
    "-  Back-propagate\n",
    "-  Return the output and loss\n",
    "\n",
    "\n"
   ]
  },
  {
   "cell_type": "code",
   "execution_count": 18,
   "metadata": {
    "collapsed": false
   },
   "outputs": [],
   "source": [
    "learning_rate = 0.005 # If you set this too high, it might explode. If too low, it might not learn\n",
    "\n",
    "def train(category_tensor, line_tensor):\n",
    "    hidden = rnn.initHidden()\n",
    "\n",
    "    rnn.zero_grad()\n",
    "\n",
    "    for i in range(line_tensor.size()[0]):\n",
    "        output, hidden = rnn(line_tensor[i], hidden)\n",
    "\n",
    "    loss = criterion(output, category_tensor)\n",
    "    loss.backward()\n",
    "\n",
    "    # Add parameters' gradients to their values, multiplied by learning rate\n",
    "    for p in rnn.parameters():\n",
    "        p.data.add_(-learning_rate, p.grad.data)\n",
    "\n",
    "    return output, loss.item()"
   ]
  },
  {
   "cell_type": "markdown",
   "metadata": {},
   "source": [
    "Now we just have to run that with a bunch of examples. Since the\n",
    "``train`` function returns both the output and loss we can print its\n",
    "guesses and also keep track of loss for plotting. Since there are 1000s\n",
    "of examples we print only every ``print_every`` examples, and take an\n",
    "average of the loss.\n",
    "\n",
    "\n"
   ]
  },
  {
   "cell_type": "code",
   "execution_count": 19,
   "metadata": {
    "collapsed": false
   },
   "outputs": [
    {
     "name": "stdout",
     "output_type": "stream",
     "text": [
      "500 0% (0m 0s) 3.9960 Gros / Portuguese ✗ (German)\n",
      "1000 1% (0m 1s) 0.4155 Safar / Arabic ✓\n",
      "1500 1% (0m 2s) 3.6024 Krau / Chinese ✗ (German)\n",
      "2000 2% (0m 3s) 0.9872 Perreault / Irish ✗ (French)\n",
      "2500 2% (0m 4s) 0.4114 Vo / Vietnamese ✓\n",
      "3000 3% (0m 4s) 0.3621 Abboud / Arabic ✓\n",
      "3500 3% (0m 5s) 1.8200 Bavilin / Irish ✗ (Russian)\n",
      "4000 4% (0m 6s) 0.3717 Govyadin / Russian ✓\n",
      "4500 4% (0m 7s) 0.3587 Araujo / Portuguese ✓\n",
      "5000 5% (0m 8s) 1.2540 Kasamatsu / Greek ✗ (Japanese)\n",
      "5500 5% (0m 9s) 1.3624 Kerr / German ✗ (Scottish)\n",
      "6000 6% (0m 9s) 0.2693 Coelho / Portuguese ✓\n",
      "6500 6% (0m 10s) 3.9241 Simonek / Polish ✗ (Czech)\n",
      "7000 7% (0m 11s) 0.9142 Campbell / Scottish ✓\n",
      "7500 7% (0m 12s) 0.0886 Scolaidhe / Irish ✓\n",
      "8000 8% (0m 13s) 2.0488 Kohl / Scottish ✗ (German)\n",
      "8500 8% (0m 14s) 0.9288 Torres / Portuguese ✓\n",
      "9000 9% (0m 14s) 0.1743 Diep / Vietnamese ✓\n",
      "9500 9% (0m 15s) 0.5288 Parent / French ✓\n",
      "10000 10% (0m 16s) 2.3911 Abano / Italian ✗ (Spanish)\n",
      "10500 10% (0m 17s) 1.9457 Chou / Korean ✗ (Chinese)\n",
      "11000 11% (0m 18s) 0.2678 Quang / Vietnamese ✓\n",
      "11500 11% (0m 18s) 1.3851 Wang / Chinese ✗ (Korean)\n",
      "12000 12% (0m 19s) 3.0769 Daalen / Irish ✗ (Dutch)\n",
      "12500 12% (0m 20s) 1.2463 Hirose / Japanese ✓\n",
      "13000 13% (0m 21s) 1.5047 Hautem / Dutch ✓\n",
      "13500 13% (0m 22s) 0.4565 Bahar / Arabic ✓\n",
      "14000 14% (0m 22s) 0.2627 Zang / Chinese ✓\n",
      "14500 14% (0m 23s) 2.5641 Sander / Arabic ✗ (German)\n",
      "15000 15% (0m 24s) 1.0053 Corna / Spanish ✗ (Italian)\n",
      "15500 15% (0m 24s) 0.0821 Katayanagi / Japanese ✓\n",
      "16000 16% (0m 25s) 1.6392 Ngai / Chinese ✗ (Korean)\n",
      "16500 16% (0m 26s) 1.4064 Salzwedel / Czech ✗ (German)\n",
      "17000 17% (0m 27s) 2.3309 Deniaud / Arabic ✗ (French)\n",
      "17500 17% (0m 27s) 0.6419 Uggeri / Italian ✓\n",
      "18000 18% (0m 28s) 0.4598 Dam / Vietnamese ✓\n",
      "18500 18% (0m 29s) 4.4378 Zaruba / Arabic ✗ (Czech)\n",
      "19000 19% (0m 29s) 0.8923 Murphy / Scottish ✓\n",
      "19500 19% (0m 30s) 0.1688 Descoteaux / French ✓\n",
      "20000 20% (0m 31s) 1.1339 Escamilla / Spanish ✓\n",
      "20500 20% (0m 31s) 1.0179 Bueren / Dutch ✓\n",
      "21000 21% (0m 32s) 2.0135 Kranz / German ✗ (Dutch)\n",
      "21500 21% (0m 33s) 2.1132 Malone / French ✗ (Irish)\n",
      "22000 22% (0m 33s) 0.0366 Quach / Vietnamese ✓\n",
      "22500 22% (0m 34s) 2.1908 Reier / French ✗ (German)\n",
      "23000 23% (0m 35s) 0.5217 Chou / Korean ✓\n",
      "23500 23% (0m 35s) 2.2278 Weigand / French ✗ (German)\n",
      "24000 24% (0m 36s) 3.4039 Santana / Spanish ✗ (Portuguese)\n",
      "24500 24% (0m 37s) 0.5813 Takewaki / Japanese ✓\n",
      "25000 25% (0m 37s) 2.0212 Tsai  / Arabic ✗ (Korean)\n",
      "25500 25% (0m 38s) 0.5152 Soares / Portuguese ✓\n",
      "26000 26% (0m 39s) 2.9462 De sauveterre / Dutch ✗ (French)\n",
      "26500 26% (0m 40s) 2.1159 Diaz / Vietnamese ✗ (Spanish)\n",
      "27000 27% (0m 40s) 3.9845 Hadash / Arabic ✗ (Czech)\n",
      "27500 27% (0m 41s) 0.7629 Sergeant / French ✓\n",
      "28000 28% (0m 42s) 0.0112 Mahovikov / Russian ✓\n",
      "28500 28% (0m 42s) 0.0686 Kosmatka / Polish ✓\n",
      "29000 28% (0m 43s) 0.2081 Varvitsiotes / Greek ✓\n",
      "29500 29% (0m 44s) 0.6373 Hao / Chinese ✓\n",
      "30000 30% (0m 44s) 1.3867 Soukup / Czech ✓\n",
      "30500 30% (0m 45s) 4.7093 Patrick / Czech ✗ (Irish)\n",
      "31000 31% (0m 46s) 0.1414 Lindsay / Scottish ✓\n",
      "31500 31% (0m 46s) 0.4152 Vega / Spanish ✓\n",
      "32000 32% (0m 47s) 0.1542 Slaski / Polish ✓\n",
      "32500 32% (0m 48s) 2.7488 Bostock / German ✗ (English)\n",
      "33000 33% (0m 49s) 0.2887 Avanesyan / Russian ✓\n",
      "33500 33% (0m 49s) 1.7740 Drassal / Arabic ✗ (Czech)\n",
      "34000 34% (0m 50s) 0.4269 Teagan / Irish ✓\n",
      "34500 34% (0m 51s) 1.6501 Sherak / Arabic ✗ (Czech)\n",
      "35000 35% (0m 51s) 0.3633 Vela / Spanish ✓\n",
      "35500 35% (0m 52s) 0.9444 Page / French ✓\n",
      "36000 36% (0m 53s) 1.0369 Starek / Czech ✗ (Polish)\n",
      "36500 36% (0m 53s) 0.0363 Mikolajczak / Polish ✓\n",
      "37000 37% (0m 54s) 2.2800 Moss / Greek ✗ (English)\n",
      "37500 37% (0m 55s) 0.9365 Madeira / Portuguese ✓\n",
      "38000 38% (0m 56s) 1.3553 Garside / Polish ✗ (English)\n",
      "38500 38% (0m 56s) 0.2035 Hernandez / Spanish ✓\n",
      "39000 39% (0m 57s) 0.9741 Mahoney / Irish ✓\n",
      "39500 39% (0m 58s) 1.0173 Smeets / Dutch ✓\n",
      "40000 40% (0m 58s) 3.2287 Mcgregor / Scottish ✗ (English)\n",
      "40500 40% (0m 59s) 2.1580 Vane / French ✗ (English)\n",
      "41000 41% (1m 0s) 4.0014 Mckay / Scottish ✗ (Irish)\n",
      "41500 41% (1m 0s) 0.9355 Zoucha / Japanese ✗ (Czech)\n",
      "42000 42% (1m 1s) 0.2648 Gagiev / Russian ✓\n",
      "42500 42% (1m 2s) 0.3720 Kafka / Czech ✓\n",
      "43000 43% (1m 2s) 0.6433 Mcmahon / Irish ✓\n",
      "43500 43% (1m 3s) 0.9133 Pinho / Portuguese ✓\n",
      "44000 44% (1m 4s) 3.4656 Bartosz / Spanish ✗ (Polish)\n",
      "44500 44% (1m 5s) 0.0881 Paszek / Polish ✓\n",
      "45000 45% (1m 5s) 2.3324 Scott / Dutch ✗ (Scottish)\n",
      "45500 45% (1m 6s) 0.4226 Amari / Arabic ✓\n",
      "46000 46% (1m 7s) 1.4129 Bock / Czech ✓\n",
      "46500 46% (1m 7s) 2.7601 Asari / Italian ✗ (Japanese)\n",
      "47000 47% (1m 8s) 4.0415 Linart / French ✗ (Czech)\n",
      "47500 47% (1m 9s) 0.0324 Truong / Vietnamese ✓\n",
      "48000 48% (1m 9s) 0.2490 Ryoo / Korean ✓\n",
      "48500 48% (1m 10s) 0.7401 Hoang / Vietnamese ✓\n",
      "49000 49% (1m 11s) 0.7498 Ozimuk / Czech ✓\n",
      "49500 49% (1m 11s) 0.0051 Zdunowski / Polish ✓\n",
      "50000 50% (1m 12s) 0.2224 Yim / Korean ✓\n",
      "50500 50% (1m 13s) 3.5495 Maas / Portuguese ✗ (Dutch)\n",
      "51000 51% (1m 13s) 3.0938 Kokkali / Dutch ✗ (Greek)\n",
      "51500 51% (1m 14s) 3.3569 Roosa / Spanish ✗ (Dutch)\n",
      "52000 52% (1m 15s) 0.2780 Valaev / Russian ✓\n",
      "52500 52% (1m 16s) 0.3800 Bartonova / Czech ✓\n",
      "53000 53% (1m 16s) 2.1444 Sokal / Czech ✗ (Polish)\n",
      "53500 53% (1m 17s) 1.8609 Mansell / German ✗ (English)\n",
      "54000 54% (1m 18s) 2.9842 Bain / Irish ✗ (English)\n",
      "54500 54% (1m 18s) 0.9400 Wood / Scottish ✓\n",
      "55000 55% (1m 19s) 0.5561 Romano / Italian ✓\n",
      "55500 55% (1m 20s) 1.3271 Banh / Korean ✗ (Vietnamese)\n",
      "56000 56% (1m 21s) 0.9273 Rong / Chinese ✓\n",
      "56500 56% (1m 22s) 0.7812 Zavala / Spanish ✓\n",
      "57000 56% (1m 22s) 0.0263 Motoyoshi / Japanese ✓\n",
      "57500 57% (1m 23s) 0.0061 Eliopoulos / Greek ✓\n",
      "58000 57% (1m 24s) 0.9677 Slezak / Polish ✗ (Czech)\n",
      "58500 58% (1m 24s) 0.1653 Antonopoulos / Greek ✓\n",
      "59000 59% (1m 25s) 0.4104 Gu / Korean ✓\n",
      "59500 59% (1m 26s) 0.8307 Bui / Chinese ✓\n",
      "60000 60% (1m 27s) 0.2688 Souza / Portuguese ✓\n",
      "60500 60% (1m 27s) 1.9734 Valencia / Italian ✗ (Spanish)\n",
      "61000 61% (1m 28s) 2.3878 Romans / Greek ✗ (English)\n",
      "61500 61% (1m 29s) 0.3877 Cvacek / Czech ✓\n",
      "62000 62% (1m 29s) 3.5583 Manus / Portuguese ✗ (Irish)\n",
      "62500 62% (1m 30s) 0.1003 Ramires / Portuguese ✓\n",
      "63000 63% (1m 31s) 1.0315 Franco / Portuguese ✓\n",
      "63500 63% (1m 31s) 0.9161 Stevenson / Scottish ✓\n",
      "64000 64% (1m 32s) 0.0947 Theunissen / Dutch ✓\n",
      "64500 64% (1m 33s) 0.0013 Jaskulski / Polish ✓\n",
      "65000 65% (1m 33s) 0.4141 Dalianis / Greek ✓\n",
      "65500 65% (1m 34s) 0.2881 Shaw / Chinese ✓\n",
      "66000 66% (1m 35s) 2.0144 Jasso / Italian ✗ (Spanish)\n",
      "66500 66% (1m 36s) 5.2875 Michel / Polish ✗ (Spanish)\n",
      "67000 67% (1m 36s) 0.5876 Sniders / Dutch ✓\n",
      "67500 67% (1m 37s) 0.2234 Travert / French ✓\n",
      "68000 68% (1m 38s) 3.6094 Cuellar / Irish ✗ (Spanish)\n",
      "68500 68% (1m 38s) 0.2779 Glaisyer / French ✓\n",
      "69000 69% (1m 39s) 0.8492 Doan / Vietnamese ✓\n",
      "69500 69% (1m 40s) 6.8365 Silhan / Irish ✗ (Czech)\n",
      "70000 70% (1m 40s) 0.7711 Hui / Chinese ✓\n",
      "70500 70% (1m 41s) 0.8224 Christie / Scottish ✓\n",
      "71000 71% (1m 42s) 0.4822 Shim / Korean ✓\n",
      "71500 71% (1m 42s) 1.9874 Franco / Italian ✗ (Portuguese)\n",
      "72000 72% (1m 43s) 0.0344 O'Rourke / Irish ✓\n",
      "72500 72% (1m 44s) 4.4155 Geftler / German ✗ (Russian)\n",
      "73000 73% (1m 44s) 3.8650 Amersvoort / French ✗ (Dutch)\n",
      "73500 73% (1m 45s) 1.1170 Antonowitz / Czech ✓\n",
      "74000 74% (1m 46s) 1.0023 Heel / Dutch ✓\n",
      "74500 74% (1m 46s) 0.4080 Quang / Vietnamese ✓\n",
      "75000 75% (1m 47s) 0.3252 Mclean / Scottish ✓\n",
      "75500 75% (1m 48s) 5.4442 Patrick / Czech ✗ (Irish)\n",
      "76000 76% (1m 49s) 0.5899 Schafer / German ✓\n",
      "76500 76% (1m 49s) 2.4264 Morcos / Portuguese ✗ (Arabic)\n",
      "77000 77% (1m 50s) 0.1226 Rudawski / Polish ✓\n",
      "77500 77% (1m 51s) 1.0619 Rodriguez / Portuguese ✗ (Spanish)\n",
      "78000 78% (1m 51s) 1.0040 Roma / Spanish ✓\n",
      "78500 78% (1m 52s) 1.1930 Hou / Korean ✗ (Chinese)\n",
      "79000 79% (1m 53s) 2.1844 Fiscella / Spanish ✗ (Italian)\n",
      "79500 79% (1m 53s) 3.2475 Nagel / Irish ✗ (Dutch)\n",
      "80000 80% (1m 54s) 1.5832 Sung / Chinese ✗ (Korean)\n",
      "80500 80% (1m 55s) 0.0190 Mancini / Italian ✓\n",
      "81000 81% (1m 56s) 2.2627 Szwedko / Russian ✗ (Polish)\n",
      "81500 81% (1m 56s) 0.9431 Wyrick / Polish ✓\n",
      "82000 82% (1m 57s) 0.5083 Ibarra / Spanish ✓\n",
      "82500 82% (1m 58s) 0.0478 Danyarov / Russian ✓\n",
      "83000 83% (1m 58s) 0.4626 Shui / Chinese ✓\n",
      "83500 83% (1m 59s) 0.5964 Agteren / Dutch ✓\n",
      "84000 84% (2m 0s) 1.3816 Sonoda / Japanese ✓\n",
      "84500 84% (2m 0s) 0.1132 Kaczka / Polish ✓\n",
      "85000 85% (2m 1s) 0.1679 Kaminski / Polish ✓\n",
      "85500 85% (2m 2s) 0.0003 Yoshikawa / Japanese ✓\n",
      "86000 86% (2m 2s) 1.3348 Serednitsky / Czech ✗ (Russian)\n",
      "86500 86% (2m 3s) 2.8238 Baz / Chinese ✗ (Arabic)\n",
      "87000 87% (2m 4s) 0.7037 Urbanek / Czech ✓\n",
      "87500 87% (2m 4s) 0.0265 Dickson / Scottish ✓\n",
      "88000 88% (2m 5s) 0.5957 Palomer / French ✓\n",
      "88500 88% (2m 6s) 2.5495 Stewart / Dutch ✗ (Scottish)\n",
      "89000 89% (2m 6s) 1.8732 Colman / English ✗ (Irish)\n",
      "89500 89% (2m 7s) 1.8086 Harman / English ✗ (French)\n",
      "90000 90% (2m 8s) 2.9991 Gagnon / Scottish ✗ (French)\n",
      "90500 90% (2m 8s) 1.2187 Hanania / Arabic ✓\n",
      "91000 91% (2m 9s) 4.0955 Andringa / Czech ✗ (Dutch)\n",
      "91500 91% (2m 10s) 0.1848 Christou / Greek ✓\n",
      "92000 92% (2m 11s) 0.5479 Castro / Portuguese ✓\n",
      "92500 92% (2m 11s) 0.8936 Diep / Vietnamese ✓\n",
      "93000 93% (2m 12s) 3.3968 Duarte / French ✗ (Portuguese)\n",
      "93500 93% (2m 13s) 0.0732 Gianakopulos / Greek ✓\n",
      "94000 94% (2m 13s) 3.1499 Brook / Scottish ✗ (English)\n",
      "94500 94% (2m 14s) 1.4286 Bang / Chinese ✗ (Korean)\n",
      "95000 95% (2m 15s) 3.0298 Oorschot / English ✗ (Dutch)\n",
      "95500 95% (2m 15s) 3.1496 Holub / Arabic ✗ (Czech)\n",
      "96000 96% (2m 16s) 1.9652 Plamondon / Russian ✗ (French)\n",
      "96500 96% (2m 17s) 1.0881 Zapatero / Portuguese ✗ (Spanish)\n",
      "97000 97% (2m 18s) 4.5444 King / Chinese ✗ (Scottish)\n",
      "97500 97% (2m 18s) 0.1037 Koutsoubos / Greek ✓\n",
      "98000 98% (2m 19s) 1.6458 Snyder / German ✗ (Dutch)\n",
      "98500 98% (2m 20s) 0.9039 Yun / Chinese ✗ (Korean)\n",
      "99000 99% (2m 21s) 1.7638 Isman / Japanese ✗ (English)\n",
      "99500 99% (2m 21s) 1.4526 Kloeter / German ✗ (Dutch)\n",
      "100000 100% (2m 22s) 4.9984 Maly / Scottish ✗ (Polish)\n"
     ]
    }
   ],
   "source": [
    "importlib.reload(utils)\n",
    "import time\n",
    "import math\n",
    "\n",
    "n_iters = 100000\n",
    "print_every = 500\n",
    "plot_every = 10000\n",
    "\n",
    "\n",
    "\n",
    "# Keep track of losses for plotting\n",
    "current_loss = 0\n",
    "all_losses = []\n",
    "\n",
    "def timeSince(since):\n",
    "    now = time.time()\n",
    "    s = now - since\n",
    "    m = math.floor(s / 60)\n",
    "    s -= m * 60\n",
    "    return '%dm %ds' % (m, s)\n",
    "\n",
    "start = time.time()\n",
    "\n",
    "for iter in range(1, n_iters + 1):\n",
    "    category, line, category_tensor, line_tensor = randomTrainingExample()\n",
    "    output, loss = train(category_tensor, line_tensor)\n",
    "    current_loss += loss\n",
    "\n",
    "    # Print iter number, loss, name and guess\n",
    "    if iter % print_every == 0:\n",
    "        guess, guess_i = categoryFromOutput(output)\n",
    "        correct = '✓' if guess == category else '✗ (%s)' % category\n",
    "        print('%d %d%% (%s) %.4f %s / %s %s' % (iter, iter / n_iters * 100, timeSince(start), loss, line, guess, correct))\n",
    "\n",
    "    # Add current loss avg to list of losses\n",
    "    if iter % plot_every == 0:\n",
    "        all_losses.append(current_loss / plot_every)\n",
    "        current_loss = 0"
   ]
  },
  {
   "cell_type": "markdown",
   "metadata": {},
   "source": [
    "## Save the model "
   ]
  },
  {
   "cell_type": "markdown",
   "metadata": {},
   "source": [
    "### As ONNX "
   ]
  },
  {
   "cell_type": "code",
   "execution_count": 22,
   "metadata": {},
   "outputs": [],
   "source": [
    "dummy_input = lineToTensor('Jones')[0]\n",
    "hidden = rnn.initHidden()"
   ]
  },
  {
   "cell_type": "code",
   "execution_count": 23,
   "metadata": {},
   "outputs": [
    {
     "name": "stdout",
     "output_type": "stream",
     "text": [
      "graph(%name : Float(1, 57)\n",
      "      %1 : Float(1, 128)\n",
      "      %2 : Float(128, 185)\n",
      "      %3 : Float(128)\n",
      "      %4 : Float(18, 185)\n",
      "      %5 : Float(18)) {\n",
      "  %6 : Float(1, 185) = onnx::Concat[axis=1](%name, %1), scope: RNN\n",
      "  %7 : Float(1, 128) = onnx::Gemm[alpha=1, beta=1, broadcast=1, transB=1](%6, %2, %3), scope: RNN/Linear[i2h]\n",
      "  %8 : Float(1, 18) = onnx::Gemm[alpha=1, beta=1, broadcast=1, transB=1](%6, %4, %5), scope: RNN/Linear[i2o]\n",
      "  %origin : Float(1, 18) = onnx::LogSoftmax[axis=1](%8), scope: RNN/LogSoftmax[softmax]\n",
      "  return (%origin, %7);\n",
      "}\n",
      "\n"
     ]
    }
   ],
   "source": [
    "torch.onnx.export(model=rnn,\n",
    "                  args=(dummy_input, hidden), \n",
    "                  f=str(PurePath(bundle_root, 'common/char-rnn-classification.onnx')),\n",
    "                  verbose=True,\n",
    "                  input_names=['name'], output_names=['origin'])"
   ]
  },
  {
   "cell_type": "markdown",
   "metadata": {},
   "source": [
    "### As torch"
   ]
  },
  {
   "cell_type": "code",
   "execution_count": 24,
   "metadata": {},
   "outputs": [],
   "source": [
    "#torch.save(rnn, str(PurePath(bundle_root, 'common/char-rnn-classification.pth')))\n",
    "torch.save(rnn.state_dict(), str(PurePath(bundle_root, 'common/char-rnn-classification.pt')))"
   ]
  },
  {
   "cell_type": "markdown",
   "metadata": {},
   "source": [
    "### As tensorflow lite (smallest size)"
   ]
  },
  {
   "cell_type": "markdown",
   "metadata": {},
   "source": [
    "import onnx\n",
    "from onnx_tf.backend import prepare\n",
    "import tensorflow as tf\n",
    "model = prepare(onnx.load(str(PurePath(bundle_root, 'common/char-rnn-classification.onnx'))))"
   ]
  },
  {
   "cell_type": "markdown",
   "metadata": {},
   "source": [
    "### Read with Caffe"
   ]
  },
  {
   "cell_type": "markdown",
   "metadata": {},
   "source": [
    "!pip install caffe2\n",
    "import caffe2.python.onnx.backend as backend\n",
    "import numpy as np"
   ]
  },
  {
   "cell_type": "markdown",
   "metadata": {},
   "source": [
    "Plotting the Results\n",
    "--------------------\n",
    "\n",
    "Plotting the historical loss from ``all_losses`` shows the network\n",
    "learning:\n",
    "\n",
    "\n"
   ]
  },
  {
   "cell_type": "code",
   "execution_count": 25,
   "metadata": {
    "collapsed": false
   },
   "outputs": [
    {
     "data": {
      "text/plain": [
       "[<matplotlib.lines.Line2D at 0x7f1519d3b240>]"
      ]
     },
     "execution_count": 25,
     "metadata": {},
     "output_type": "execute_result"
    },
    {
     "data": {
      "image/png": "[encoded data removed]",
      "text/plain": [
       "<Figure size 432x288 with 1 Axes>"
      ]
     },
     "metadata": {},
     "output_type": "display_data"
    }
   ],
   "source": [
    "import matplotlib.pyplot as plt\n",
    "import matplotlib.ticker as ticker\n",
    "\n",
    "plt.figure()\n",
    "plt.plot(all_losses)"
   ]
  },
  {
   "cell_type": "markdown",
   "metadata": {},
   "source": [
    "Evaluating the Results\n",
    "======================\n",
    "\n",
    "To see how well the network performs on different categories, we will\n",
    "create a confusion matrix, indicating for every actual language (rows)\n",
    "which language the network guesses (columns). To calculate the confusion\n",
    "matrix a bunch of samples are run through the network with\n",
    "``evaluate()``, which is the same as ``train()`` minus the backprop.\n",
    "\n",
    "\n"
   ]
  },
  {
   "cell_type": "code",
   "execution_count": 12,
   "metadata": {},
   "outputs": [
    {
     "data": {
      "image/png": "[encoded data removed]",
      "text/plain": [
       "<Figure size 432x288 with 2 Axes>"
      ]
     },
     "metadata": {},
     "output_type": "display_data"
    }
   ],
   "source": [
    "import matplotlib.pyplot as plt\n",
    "# Keep track of correct guesses in a confusion matrix\n",
    "confusion = torch.zeros(n_categories, n_categories)\n",
    "n_confusion = 10000\n",
    "\n",
    "# Just return an output given a line\n",
    "def evaluate(line_tensor):\n",
    "    hidden = rnn.initHidden()\n",
    "\n",
    "    for i in range(line_tensor.size()[0]):\n",
    "        output, hidden = rnn(line_tensor[i], hidden)\n",
    "\n",
    "    return output\n",
    "\n",
    "# Go through a bunch of examples and record which are correctly guessed\n",
    "for i in range(n_confusion):\n",
    "    category, line, category_tensor, line_tensor = randomTrainingExample()\n",
    "    output = evaluate(line_tensor)\n",
    "    guess, guess_i = categoryFromOutput(output)\n",
    "    category_i = all_categories.index(category)\n",
    "    confusion[category_i][guess_i] += 1\n",
    "\n",
    "# Normalize by dividing every row by its sum\n",
    "for i in range(n_categories):\n",
    "    confusion[i] = confusion[i] / confusion[i].sum()\n",
    "\n",
    "# Set up plot\n",
    "fig = plt.figure()\n",
    "ax = fig.add_subplot(111)\n",
    "cax = ax.matshow(confusion.numpy())\n",
    "fig.colorbar(cax)\n",
    "\n",
    "# Set up axes\n",
    "ax.set_xticklabels([''] + all_categories, rotation=90)\n",
    "ax.set_yticklabels([''] + all_categories)\n",
    "\n",
    "# Force label at every tick\n",
    "#ax.xaxis.set_major_locator(ticker.MultipleLocator(1))\n",
    "#ax.yaxis.set_major_locator(ticker.MultipleLocator(1))\n",
    "\n",
    "# sphinx_gallery_thumbnail_number = 2\n",
    "plt.show()"
   ]
  },
  {
   "cell_type": "markdown",
   "metadata": {},
   "source": [
    "You can pick out bright spots off the main axis that show which\n",
    "languages it guesses incorrectly, e.g. Chinese for Korean, and Spanish\n",
    "for Italian. It seems to do very well with Greek, and very poorly with\n",
    "English (perhaps because of overlap with other languages).\n",
    "\n",
    "\n"
   ]
  },
  {
   "cell_type": "code",
   "execution_count": 15,
   "metadata": {},
   "outputs": [
    {
     "data": {
      "text/plain": [
       "RNN(\n",
       "  (i2h): Linear(in_features=185, out_features=128, bias=True)\n",
       "  (i2o): Linear(in_features=185, out_features=18, bias=True)\n",
       "  (softmax): LogSoftmax()\n",
       ")"
      ]
     },
     "execution_count": 15,
     "metadata": {},
     "output_type": "execute_result"
    }
   ],
   "source": [
    "RNN = utils.RNN\n",
    "# init model\n",
    "rnn = RNN(utils.n_letters, utils.n_hidden, utils.n_categories)\n",
    "# fill in weights\n",
    "rnn.load_state_dict(torch.load(str(PurePath(bundle_root, 'common/char-rnn-classification.pt'))))\n",
    "rnn.eval()"
   ]
  },
  {
   "cell_type": "markdown",
   "metadata": {},
   "source": [
    "Running on User Input\n",
    "---------------------\n",
    "\n",
    "\n"
   ]
  },
  {
   "cell_type": "code",
   "execution_count": 18,
   "metadata": {
    "collapsed": false
   },
   "outputs": [
    {
     "name": "stdout",
     "output_type": "stream",
     "text": [
      "\n",
      "> Dovesky\n",
      "16\n",
      "(-0.68) Czech\n",
      "4\n",
      "(-0.79) Russian\n",
      "3\n",
      "(-4.10) Polish\n",
      "\n",
      "> Jackson\n",
      "4\n",
      "(-0.67) Russian\n",
      "10\n",
      "(-1.56) Scottish\n",
      "2\n",
      "(-1.74) Greek\n",
      "\n",
      "> Satoshi\n",
      "9\n",
      "(-0.47) Italian\n",
      "1\n",
      "(-2.14) Japanese\n",
      "12\n",
      "(-2.75) Arabic\n",
      "\n",
      "> Nikolas\n",
      "2\n",
      "(-0.01) Greek\n",
      "16\n",
      "(-5.44) Czech\n",
      "7\n",
      "(-5.66) English\n"
     ]
    }
   ],
   "source": [
    "def predict(input_line, n_predictions=3):\n",
    "    print('\\n> %s' % input_line)\n",
    "    with torch.no_grad():\n",
    "        output = evaluate(lineToTensor(input_line))\n",
    "\n",
    "        # Get top N categories\n",
    "        topv, topi = output.topk(n_predictions, 1, True)\n",
    "        predictions = []\n",
    "\n",
    "        for i in range(n_predictions):\n",
    "            value = topv[0][i].item()\n",
    "            category_index = topi[0][i].item()\n",
    "            print(category_index)\n",
    "            print('(%.2f) %s' % (value, all_categories[category_index]))\n",
    "            predictions.append([value, all_categories[category_index]])\n",
    "\n",
    "predict('Dovesky')\n",
    "predict('Jackson')\n",
    "predict('Satoshi')\n",
    "predict('Nikolas')"
   ]
  },
  {
   "cell_type": "markdown",
   "metadata": {},
   "source": [
    "The final versions of the scripts `in the Practical PyTorch\n",
    "repo <https://github.com/spro/practical-pytorch/tree/master/char-rnn-classification>`__\n",
    "split the above code into a few files:\n",
    "\n",
    "-  ``data.py`` (loads files)\n",
    "-  ``model.py`` (defines the RNN)\n",
    "-  ``train.py`` (runs training)\n",
    "-  ``predict.py`` (runs ``predict()`` with command line arguments)\n",
    "-  ``server.py`` (serve prediction as a JSON API with bottle.py)\n",
    "\n",
    "Run ``train.py`` to train and save the network.\n",
    "\n",
    "Run ``predict.py`` with a name to view predictions:\n",
    "\n",
    "::\n",
    "\n",
    "    $ python predict.py Hazaki\n",
    "    (-0.42) Japanese\n",
    "    (-1.39) Polish\n",
    "    (-3.51) Czech\n",
    "\n",
    "Run ``server.py`` and visit http://localhost:5533/Yourname to get JSON\n",
    "output of predictions.\n",
    "\n",
    "\n"
   ]
  },
  {
   "cell_type": "code",
   "execution_count": null,
   "metadata": {},
   "outputs": [],
   "source": []
  }
 ],
 "metadata": {
  "kernelspec": {
   "display_name": "Python 3",
   "language": "python",
   "name": "python3"
  },
  "language_info": {
   "codemirror_mode": {
    "name": "ipython",
    "version": 3
   },
   "file_extension": ".py",
   "mimetype": "text/x-python",
   "name": "python",
   "nbconvert_exporter": "python",
   "pygments_lexer": "ipython3",
   "version": "3.6.3"
  }
 },
 "nbformat": 4,
 "nbformat_minor": 2
}
