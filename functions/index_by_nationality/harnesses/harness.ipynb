{
 "cells": [
  {
   "cell_type": "markdown",
   "metadata": {},
   "source": [
    "# Import modules"
   ]
  },
  {
   "cell_type": "code",
   "execution_count": 1,
   "metadata": {},
   "outputs": [
    {
     "name": "stdout",
     "output_type": "stream",
     "text": [
      "Requirement already satisfied: graphene in /opt/conda/lib/python3.6/site-packages (2.1.3)\n",
      "Requirement already satisfied: graphql-core<3,>=2.1 in /opt/conda/lib/python3.6/site-packages (from graphene) (2.1)\n",
      "Requirement already satisfied: graphql-relay<1,>=0.4.5 in /opt/conda/lib/python3.6/site-packages (from graphene) (0.4.5)\n",
      "Requirement already satisfied: aniso8601<4,>=3 in /opt/conda/lib/python3.6/site-packages (from graphene) (3.0.2)\n",
      "Requirement already satisfied: promise<3,>=2.1 in /opt/conda/lib/python3.6/site-packages (from graphene) (2.2.1)\n",
      "Requirement already satisfied: six<2,>=1.10.0 in /opt/conda/lib/python3.6/site-packages (from graphene) (1.11.0)\n",
      "Requirement already satisfied: rx>=1.6.0 in /opt/conda/lib/python3.6/site-packages (from graphql-core<3,>=2.1->graphene) (1.6.1)\n"
     ]
    }
   ],
   "source": [
    "!pip install graphene\n",
    "import graphene\n",
    "import json\n",
    "import sys, io\n",
    "import pandas as pd\n",
    "import numpy as np\n",
    "import importlib\n",
    "import os\n",
    "import pathlib\n",
    "import requests\n",
    "import torch\n",
    "\n",
    "bundle_root = pathlib.Path(os.environ.get('LABS_BUNDLE_ROOT', '/labs'))\n",
    "sys.path.append(str(bundle_root / 'functions/index_by_nationality'))"
   ]
  },
  {
   "cell_type": "code",
   "execution_count": 164,
   "metadata": {},
   "outputs": [],
   "source": [
    "query_metadata = \"\"\"query metadata {nationalityList, jobList}\"\"\"\n",
    "query_data = \"\"\"query data ($nationality: String!, $job: String!)\n",
    "            {movieList(nationality: $nationality, job: $job)\n",
    "            {\n",
    "                movieTitle \n",
    "                movieRevenue\n",
    "                }}\"\"\"\n",
    "query_introspect = \"\"\"{\n",
    "  __schema {\n",
    "    types {\n",
    "      name\n",
    "    }\n",
    "  }\n",
    "}\"\"\"\n",
    "query_metadata = \"\"\"query metadata {nationalityList(job:\"Director\"), jobList(nationality:\"Arabic\")}\"\"\"\n",
    "query_playground = \"\"\"{\"operationName\":\"IntrospectionQuery\",\"variables\":{},\"query\":\"query IntrospectionQuery {\\n  __schema {\\n    queryType {\\n      name\\n    }\\n    mutationType {\\n      name\\n    }\\n    subscriptionType {\\n      name\\n    }\\n    types {\\n      ...FullType\\n    }\\n    directives {\\n      name\\n      description\\n      locations\\n      args {\\n        ...InputValue\\n      }\\n    }\\n  }\\n}\\n\\nfragment FullType on __Type {\\n  kind\\n  name\\n  description\\n  fields(includeDeprecated: true) {\\n    name\\n    description\\n    args {\\n      ...InputValue\\n    }\\n    type {\\n      ...TypeRef\\n    }\\n    isDeprecated\\n    deprecationReason\\n  }\\n  inputFields {\\n    ...InputValue\\n  }\\n  interfaces {\\n    ...TypeRef\\n  }\\n  enumValues(includeDeprecated: true) {\\n    name\\n    description\\n    isDeprecated\\n    deprecationReason\\n  }\\n  possibleTypes {\\n    ...TypeRef\\n  }\\n}\\n\\nfragment InputValue on __InputValue {\\n  name\\n  description\\n  type {\\n    ...TypeRef\\n  }\\n  defaultValue\\n}\\n\\nfragment TypeRef on __Type {\\n  kind\\n  name\\n  ofType {\\n    kind\\n    name\\n    ofType {\\n      kind\\n      name\\n      ofType {\\n        kind\\n        name\\n        ofType {\\n          kind\\n          name\\n          ofType {\\n            kind\\n            name\\n            ofType {\\n              kind\\n              name\\n              ofType {\\n                kind\\n                name\\n              }\\n            }\\n          }\\n        }\\n      }\\n    }\\n  }\\n}\\n\"}\"\"\"\n",
    "query_data = json.dumps({'variables': {'nationality': 'English', 'job': 'Director'}, 'query': query_data})\n",
    "query_metadata = json.dumps({'query': query_metadata})"
   ]
  },
  {
   "cell_type": "markdown",
   "metadata": {},
   "source": [
    "# Test handler functions"
   ]
  },
  {
   "cell_type": "code",
   "execution_count": 161,
   "metadata": {},
   "outputs": [],
   "source": [
    "import handler \n",
    "importlib.reload(handler);"
   ]
  },
  {
   "cell_type": "code",
   "execution_count": 167,
   "metadata": {},
   "outputs": [
    {
     "name": "stdout",
     "output_type": "stream",
     "text": [
      "188 ms ± 34.2 ms per loop (mean ± std. dev. of 7 runs, 1 loop each)\n"
     ]
    }
   ],
   "source": [
    "%%timeit\n",
    "out = handler.handle(query_data)"
   ]
  },
  {
   "cell_type": "code",
   "execution_count": 166,
   "metadata": {},
   "outputs": [
    {
     "data": {
      "text/plain": [
       "'{\"data\": {\"movieList\": [{\"movieTitle\": \"The Lord of the Rings: The Return of the King\", \"movieRevenue\": 1118}, {\"movieTitle\": \"The Hobbit: An Unexpected Journey\", \"movieRevenue\": 1021}, {\"movieTitle\": \"The Hobbit: The Desolation of Smaug\", \"movieRevenue\": 958}, {\"movieTitle\": \"The Hobbit: The Battle of the Five Armies\", \"movieRevenue\": 956}, {\"movieTitle\": \"The Lord of the Rings: The Two Towers\", \"movieRevenue\": 926}, {\"movieTitle\": \"The Lord of the Rings: The Fellowship of the Ring\", \"movieRevenue\": 871}, {\"movieTitle\": \"King Kong\", \"movieRevenue\": 550}, {\"movieTitle\": \"The Lovely Bones\", \"movieRevenue\": 93}, {\"movieTitle\": \"The Frighteners\", \"movieRevenue\": 29}, {\"movieTitle\": \"Heavenly Creatures\", \"movieRevenue\": 3}, {\"movieTitle\": \"Harry Potter and the Goblet of Fire\", \"movieRevenue\": 895}, {\"movieTitle\": \"Prince of Persia: The Sands of Time\", \"movieRevenue\": 335}, {\"movieTitle\": \"Four Weddings and a Funeral\", \"movieRevenue\": 254}, {\"movieTitle\": \"Donnie Brasco\", \"movieRevenue\": 41}, {\"movieTitle\": \"Enchanted April\", \"movieRevenue\": 13}, {\"movieTitle\": \"Love in the Time of Cholera\", \"movieRevenue\": 4}, {\"movieTitle\": \"Captain America: The First Avenger\", \"movieRevenue\": 370}, {\"movieTitle\": \"Jurassic Park III\", \"movieRevenue\": 368}, {\"movieTitle\": \"Jumanji\", \"movieRevenue\": 262}, {\"movieTitle\": \"Honey, I Shrunk the Kids\", \"movieRevenue\": 222}, {\"movieTitle\": \"Hidalgo\", \"movieRevenue\": 108}, {\"movieTitle\": \"The Rocketeer\", \"movieRevenue\": 62}, {\"movieTitle\": \"The Pagemaster\", \"movieRevenue\": 13}, {\"movieTitle\": \"Rain Man\", \"movieRevenue\": 412}, {\"movieTitle\": \"Disclosure\", \"movieRevenue\": 214}, {\"movieTitle\": \"Sleepers\", \"movieRevenue\": 165}, {\"movieTitle\": \"Good Morning, Vietnam\", \"movieRevenue\": 123}, {\"movieTitle\": \"Bandits\", \"movieRevenue\": 67}, {\"movieTitle\": \"Wag the Dog\", \"movieRevenue\": 64}, {\"movieTitle\": \"Bugsy\", \"movieRevenue\": 49}, {\"movieTitle\": \"The Natural\", \"movieRevenue\": 47}, {\"movieTitle\": \"Man of the Year\", \"movieRevenue\": 41}, {\"movieTitle\": \"Toys\", \"movieRevenue\": 23}, {\"movieTitle\": \"Sphere\", \"movieRevenue\": 13}, {\"movieTitle\": \"What Just Happened\", \"movieRevenue\": 6}, {\"movieTitle\": \"Rock the Kasbah\", \"movieRevenue\": 3}, {\"movieTitle\": \"Die Hard: With a Vengeance\", \"movieRevenue\": 366}, {\"movieTitle\": \"The Hunt for Red October\", \"movieRevenue\": 199}, {\"movieTitle\": \"Die Hard\", \"movieRevenue\": 140}, {\"movieTitle\": \"Last Action Hero\", \"movieRevenue\": 137}, {\"movieTitle\": \"The Thomas Crown Affair\", \"movieRevenue\": 124}, {\"movieTitle\": \"Predator\", \"movieRevenue\": 98}, {\"movieTitle\": \"The 13th Warrior\", \"movieRevenue\": 61}, {\"movieTitle\": \"Basic\", \"movieRevenue\": 42}]}, \"errors\": null}'"
      ]
     },
     "execution_count": 166,
     "metadata": {},
     "output_type": "execute_result"
    }
   ],
   "source": [
    "out"
   ]
  },
  {
   "cell_type": "code",
   "execution_count": 160,
   "metadata": {},
   "outputs": [],
   "source": [
    "with open(str(bundle_root / 'functions/index_by_nationality/schema.json'), 'w') as fp:\n",
    "    json.dump(handler.schema.introspect(), fp)"
   ]
  },
  {
   "cell_type": "markdown",
   "metadata": {},
   "source": [
    "# Deploy function"
   ]
  },
  {
   "cell_type": "markdown",
   "metadata": {},
   "source": [
    "### cheat sheet"
   ]
  },
  {
   "cell_type": "code",
   "execution_count": 6,
   "metadata": {},
   "outputs": [],
   "source": [
    "# labs bundle deploy staging (deploy to staging)\n",
    "# labs bundle build classify_name (build locally for debugging)\n",
    "# labs function run sunburst -d '{\"date_range\": [20180201,20180401], \"max_level\":4, \"threshold\":1000, \"operating_system\": \"all\"}' (example local call)"
   ]
  },
  {
   "cell_type": "code",
   "execution_count": null,
   "metadata": {},
   "outputs": [],
   "source": [
    "#labs bundle build classify_name && docker run -it --rm --name function_test -p 5000:5000 classify_name python index.py"
   ]
  },
  {
   "cell_type": "markdown",
   "metadata": {},
   "source": [
    "# Test function "
   ]
  },
  {
   "cell_type": "code",
   "execution_count": 163,
   "metadata": {},
   "outputs": [],
   "source": [
    "function_url = 'https://labs.cloud.contiamo.com/b0a002bf-d166-5ccc-a552-ebe89882cb90/v1/function/be852eaa-c701-4f73-8ed7-aceb6dd4aeb8/index_by_nationality'"
   ]
  },
  {
   "cell_type": "code",
   "execution_count": 167,
   "metadata": {},
   "outputs": [
    {
     "name": "stdout",
     "output_type": "stream",
     "text": [
      "CPU times: user 20.3 ms, sys: 30 µs, total: 20.4 ms\n",
      "Wall time: 233 ms\n"
     ]
    }
   ],
   "source": [
    "%%time\n",
    "deployed_output = requests.post(function_url,\n",
    "                                data=input_query_data).json()"
   ]
  },
  {
   "cell_type": "code",
   "execution_count": 168,
   "metadata": {},
   "outputs": [
    {
     "data": {
      "text/plain": [
       "{'data': {'movieList': [{'title': 'The Lord of the Rings: The Return of the King',\n",
       "    'revenue': 1118888979},\n",
       "   {'title': 'The Hobbit: An Unexpected Journey', 'revenue': 1021103568},\n",
       "   {'title': 'The Hobbit: The Desolation of Smaug', 'revenue': 958400000}]},\n",
       " 'errors': None}"
      ]
     },
     "execution_count": 168,
     "metadata": {},
     "output_type": "execute_result"
    }
   ],
   "source": [
    "deployed_output"
   ]
  },
  {
   "cell_type": "markdown",
   "metadata": {},
   "source": [
    "### Compare"
   ]
  },
  {
   "cell_type": "code",
   "execution_count": 165,
   "metadata": {},
   "outputs": [
    {
     "data": {
      "text/plain": [
       "True"
      ]
     },
     "execution_count": 165,
     "metadata": {},
     "output_type": "execute_result"
    }
   ],
   "source": [
    "output['sunburst_data'] == deployed_output['sunburst_data']"
   ]
  }
 ],
 "metadata": {
  "kernelspec": {
   "display_name": "Python 3",
   "language": "python",
   "name": "python3"
  },
  "language_info": {
   "codemirror_mode": {
    "name": "ipython",
    "version": 3
   },
   "file_extension": ".py",
   "mimetype": "text/x-python",
   "name": "python",
   "nbconvert_exporter": "python",
   "pygments_lexer": "ipython3",
   "version": "3.6.3"
  }
 },
 "nbformat": 4,
 "nbformat_minor": 2
}
