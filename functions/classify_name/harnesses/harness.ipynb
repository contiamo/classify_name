{
 "cells": [
  {
   "cell_type": "markdown",
   "metadata": {},
   "source": [
    "# Import modules"
   ]
  },
  {
   "cell_type": "code",
   "execution_count": 2,
   "metadata": {},
   "outputs": [],
   "source": [
    "import json\n",
    "import sys, io\n",
    "import pandas as pd\n",
    "import numpy as np\n",
    "import importlib\n",
    "import os\n",
    "import requests\n",
    "import torch\n",
    "\n",
    "from pathlib import PurePath\n",
    "bundle_root = os.environ.get('LABS_BUNDLE_ROOT', '/labs')\n",
    "sys.path.append(str(PurePath(bundle_root, 'functions', 'classify_name')))\n",
    "sys.path.append(str(PurePath(bundle_root, 'common')))\n",
    "import utils\n",
    "importlib.reload(utils);"
   ]
  },
  {
   "cell_type": "markdown",
   "metadata": {},
   "source": [
    "# Test handler functions"
   ]
  },
  {
   "cell_type": "code",
   "execution_count": 3,
   "metadata": {},
   "outputs": [],
   "source": [
    "import handler \n",
    "importlib.reload(handler);"
   ]
  },
  {
   "cell_type": "code",
   "execution_count": 7,
   "metadata": {},
   "outputs": [
    {
     "name": "stdout",
     "output_type": "stream",
     "text": [
      "Input string is Nicolas and type is <class 'str'>\n"
     ]
    },
    {
     "data": {
      "text/plain": [
       "'[[\"(-2.7363)\", \"Greek\"], [\"(-2.7743)\", \"Arabic\"], [\"(-2.8144)\", \"English\"]]'"
      ]
     },
     "execution_count": 7,
     "metadata": {},
     "output_type": "execute_result"
    }
   ],
   "source": [
    "json.dumps(handler.handle('Nicolas'))"
   ]
  },
  {
   "cell_type": "code",
   "execution_count": 4,
   "metadata": {},
   "outputs": [
    {
     "data": {
      "text/plain": [
       "'\"Nicolas\"'"
      ]
     },
     "execution_count": 4,
     "metadata": {},
     "output_type": "execute_result"
    }
   ],
   "source": [
    "json.dumps('Nicolas')"
   ]
  },
  {
   "cell_type": "markdown",
   "metadata": {},
   "source": [
    "# Deploy function"
   ]
  },
  {
   "cell_type": "markdown",
   "metadata": {},
   "source": [
    "### cheat sheet"
   ]
  },
  {
   "cell_type": "code",
   "execution_count": 6,
   "metadata": {},
   "outputs": [],
   "source": [
    "# labs bundle deploy staging (deploy to staging)\n",
    "# labs bundle build classify_name (build locally for debugging)\n",
    "# labs function run sunburst -d '{\"date_range\": [20180201,20180401], \"max_level\":4, \"threshold\":1000, \"operating_system\": \"all\"}' (example local call)"
   ]
  },
  {
   "cell_type": "code",
   "execution_count": null,
   "metadata": {},
   "outputs": [],
   "source": [
    "#labs bundle build classify_name && docker run -it --rm --name function_test -p 5000:5000 classify_name python index.py"
   ]
  },
  {
   "cell_type": "markdown",
   "metadata": {},
   "source": [
    "# Test function "
   ]
  },
  {
   "cell_type": "code",
   "execution_count": 7,
   "metadata": {},
   "outputs": [
    {
     "name": "stdout",
     "output_type": "stream",
     "text": [
      "<html>\n",
      "<head><title>503 Service Temporarily Unavailable</title></head>\n",
      "<body bgcolor=\"white\">\n",
      "<center><h1>503 Service Temporarily Unavailable</h1></center>\n",
      "<hr><center>nginx/1.13.12</center>\n",
      "</body>\n",
      "</html>\n"
     ]
    }
   ],
   "source": [
    "!curl -d '{\"max_level\":8,\"threshold\":10000,\"date_range\":[\"2018-02-17\",\"2018-04-18\"]}' https://labs.ctmo.io/21b899ae-3eba-56a7-97da-fa26c050d1c5/v1/function/08fb1d62-066a-42d6-bfb4-12d127c5bfd2/sunburst"
   ]
  },
  {
   "cell_type": "code",
   "execution_count": 8,
   "metadata": {},
   "outputs": [
    {
     "name": "stdout",
     "output_type": "stream",
     "text": [
      "CPU times: user 21 ms, sys: 2.63 ms, total: 23.7 ms\n",
      "Wall time: 848 ms\n"
     ]
    }
   ],
   "source": [
    "%%time\n",
    "deployed_output = requests.post('https://labs.stg.contiamo.io/21b899ae-3eba-56a7-97da-fa26c050d1c5/v1/function/6d02283a-7896-4f42-9ae2-a18cccfd9318/sunburst',\n",
    "                                data= json.dumps({'date_range': [\"2018-04-03\",\"2018-04-06\"],\n",
    "                                                  'max_level': 8, \n",
    "                                                  'threshold': 1000,\n",
    "                                                  'operating_system': 'all',\n",
    "                                                  'browser': 'all'})).json()"
   ]
  },
  {
   "cell_type": "markdown",
   "metadata": {},
   "source": [
    "deployed_output"
   ]
  },
  {
   "cell_type": "code",
   "execution_count": 9,
   "metadata": {},
   "outputs": [
    {
     "data": {
      "text/plain": [
       "{'current_date': '2018-08-24',\n",
       " 'date_range': ['2017-09-01', '2018-08-23'],\n",
       " 'load_time (ms)': 1741,\n",
       " 'os_values': ['Android', 'iOS', 'Other', 'BlackBerry'],\n",
       " 't_function_call (ms)': 113,\n",
       " 't_package_import (ms)': 469,\n",
       " 't_parse_input (ms)': 2,\n",
       " 'version': '1.7'}"
      ]
     },
     "execution_count": 9,
     "metadata": {},
     "output_type": "execute_result"
    }
   ],
   "source": [
    "deployed_output['metadata']"
   ]
  },
  {
   "cell_type": "code",
   "execution_count": 10,
   "metadata": {},
   "outputs": [
    {
     "data": {
      "text/plain": [
       "'182083'"
      ]
     },
     "execution_count": 10,
     "metadata": {},
     "output_type": "execute_result"
    }
   ],
   "source": [
    "deployed_output['sunburst_data']['data']['value']"
   ]
  },
  {
   "cell_type": "markdown",
   "metadata": {},
   "source": [
    "### Compare"
   ]
  },
  {
   "cell_type": "code",
   "execution_count": 165,
   "metadata": {},
   "outputs": [
    {
     "data": {
      "text/plain": [
       "True"
      ]
     },
     "execution_count": 165,
     "metadata": {},
     "output_type": "execute_result"
    }
   ],
   "source": [
    "output['sunburst_data'] == deployed_output['sunburst_data']"
   ]
  }
 ],
 "metadata": {
  "kernelspec": {
   "display_name": "Python 3",
   "language": "python",
   "name": "python3"
  },
  "language_info": {
   "codemirror_mode": {
    "name": "ipython",
    "version": 3
   },
   "file_extension": ".py",
   "mimetype": "text/x-python",
   "name": "python",
   "nbconvert_exporter": "python",
   "pygments_lexer": "ipython3",
   "version": "3.6.3"
  }
 },
 "nbformat": 4,
 "nbformat_minor": 2
}
