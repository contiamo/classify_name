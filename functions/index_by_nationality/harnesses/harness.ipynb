{
 "cells": [
  {
   "cell_type": "markdown",
   "metadata": {},
   "source": [
    "# Import modules"
   ]
  },
  {
   "cell_type": "code",
   "execution_count": 257,
   "metadata": {},
   "outputs": [
    {
     "name": "stdout",
     "output_type": "stream",
     "text": [
      "Requirement already satisfied: graphene in /opt/conda/lib/python3.6/site-packages (2.1.3)\n",
      "Requirement already satisfied: graphql-relay<1,>=0.4.5 in /opt/conda/lib/python3.6/site-packages (from graphene) (0.4.5)\n",
      "Requirement already satisfied: graphql-core<3,>=2.1 in /opt/conda/lib/python3.6/site-packages (from graphene) (2.1)\n",
      "Requirement already satisfied: six<2,>=1.10.0 in /opt/conda/lib/python3.6/site-packages (from graphene) (1.11.0)\n",
      "Requirement already satisfied: aniso8601<4,>=3 in /opt/conda/lib/python3.6/site-packages (from graphene) (3.0.2)\n",
      "Requirement already satisfied: promise<3,>=2.1 in /opt/conda/lib/python3.6/site-packages (from graphene) (2.2.1)\n",
      "Requirement already satisfied: rx>=1.6.0 in /opt/conda/lib/python3.6/site-packages (from graphql-core<3,>=2.1->graphene) (1.6.1)\n"
     ]
    }
   ],
   "source": [
    "!pip install graphene\n",
    "import graphene\n",
    "import json\n",
    "import sys, io\n",
    "import pandas as pd\n",
    "import numpy as np\n",
    "import importlib\n",
    "import os\n",
    "import pathlib\n",
    "import requests\n",
    "import torch\n",
    "\n",
    "bundle_root = pathlib.Path(os.environ.get('LABS_BUNDLE_ROOT', '/labs'))\n",
    "sys.path.append(str(bundle_root / 'functions/index_by_nationality'))"
   ]
  },
  {
   "cell_type": "code",
   "execution_count": 258,
   "metadata": {},
   "outputs": [],
   "source": [
    "query_metadata = \"\"\"query metadata {nationalityList, jobList}\"\"\"\n",
    "query_data = \"\"\"query data {movieList(nationality: \"Russian\", job: \"Director\")\n",
    "                {\n",
    "                title\n",
    "                revenue\n",
    "                }}\"\"\""
   ]
  },
  {
   "cell_type": "markdown",
   "metadata": {},
   "source": [
    "# Test handler functions"
   ]
  },
  {
   "cell_type": "code",
   "execution_count": 259,
   "metadata": {},
   "outputs": [],
   "source": [
    "import handler \n",
    "importlib.reload(handler);"
   ]
  },
  {
   "cell_type": "code",
   "execution_count": null,
   "metadata": {},
   "outputs": [],
   "source": [
    "handler.handle()"
   ]
  },
  {
   "cell_type": "code",
   "execution_count": 274,
   "metadata": {},
   "outputs": [
    {
     "name": "stdout",
     "output_type": "stream",
     "text": [
      "27.8 ms ± 573 µs per loop (mean ± std. dev. of 7 runs, 10 loops each)\n"
     ]
    }
   ],
   "source": [
    "%%timeit\n",
    "handler.handle(query_data)"
   ]
  },
  {
   "cell_type": "code",
   "execution_count": 283,
   "metadata": {},
   "outputs": [],
   "source": [
    "with open(str(bundle_root / 'functions/index_by_nationality/schema.json'), 'w') as fp:\n",
    "    json.dump(handler.schema.introspect(), fp)"
   ]
  },
  {
   "cell_type": "markdown",
   "metadata": {},
   "source": [
    "# Deploy function"
   ]
  },
  {
   "cell_type": "markdown",
   "metadata": {},
   "source": [
    "### cheat sheet"
   ]
  },
  {
   "cell_type": "code",
   "execution_count": 6,
   "metadata": {},
   "outputs": [],
   "source": [
    "# labs bundle deploy staging (deploy to staging)\n",
    "# labs bundle build classify_name (build locally for debugging)\n",
    "# labs function run sunburst -d '{\"date_range\": [20180201,20180401], \"max_level\":4, \"threshold\":1000, \"operating_system\": \"all\"}' (example local call)"
   ]
  },
  {
   "cell_type": "code",
   "execution_count": null,
   "metadata": {},
   "outputs": [],
   "source": [
    "#labs bundle build classify_name && docker run -it --rm --name function_test -p 5000:5000 classify_name python index.py"
   ]
  },
  {
   "cell_type": "markdown",
   "metadata": {},
   "source": [
    "# Test function "
   ]
  },
  {
   "cell_type": "code",
   "execution_count": 263,
   "metadata": {},
   "outputs": [],
   "source": [
    "function_url = 'https://labs.cloud.contiamo.com/21b899ae-3eba-56a7-97da-fa26c050d1c5/v1/function/26a6b514-0324-4078-abc7-953d851c3aa4/index_by_nationality'"
   ]
  },
  {
   "cell_type": "code",
   "execution_count": 277,
   "metadata": {},
   "outputs": [
    {
     "name": "stdout",
     "output_type": "stream",
     "text": [
      "215 ms ± 11.1 ms per loop (mean ± std. dev. of 7 runs, 1 loop each)\n"
     ]
    }
   ],
   "source": [
    "%%timeit\n",
    "deployed_output = requests.post(function_url,\n",
    "                                data=\"\"\"query metadata {nationalityList, jobList}\"\"\").json()"
   ]
  },
  {
   "cell_type": "code",
   "execution_count": 273,
   "metadata": {},
   "outputs": [
    {
     "data": {
      "text/plain": [
       "{'movieList': [{'title': 'Jurassic World', 'revenue': 1513528810},\n",
       "  {'title': 'The Fate of the Furious', 'revenue': 1238764765},\n",
       "  {'title': 'Captain America: Civil War', 'revenue': 1153304495}]}"
      ]
     },
     "execution_count": 273,
     "metadata": {},
     "output_type": "execute_result"
    }
   ],
   "source": [
    "deployed_output"
   ]
  },
  {
   "cell_type": "markdown",
   "metadata": {},
   "source": [
    "### Compare"
   ]
  },
  {
   "cell_type": "code",
   "execution_count": 165,
   "metadata": {},
   "outputs": [
    {
     "data": {
      "text/plain": [
       "True"
      ]
     },
     "execution_count": 165,
     "metadata": {},
     "output_type": "execute_result"
    }
   ],
   "source": [
    "output['sunburst_data'] == deployed_output['sunburst_data']"
   ]
  }
 ],
 "metadata": {
  "kernelspec": {
   "display_name": "Python 3",
   "language": "python",
   "name": "python3"
  },
  "language_info": {
   "codemirror_mode": {
    "name": "ipython",
    "version": 3
   },
   "file_extension": ".py",
   "mimetype": "text/x-python",
   "name": "python",
   "nbconvert_exporter": "python",
   "pygments_lexer": "ipython3",
   "version": "3.6.3"
  }
 },
 "nbformat": 4,
 "nbformat_minor": 2
}
