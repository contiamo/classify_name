{
 "cells": [
  {
   "cell_type": "markdown",
   "metadata": {},
   "source": [
    "# Import modules"
   ]
  },
  {
   "cell_type": "code",
   "execution_count": 257,
   "metadata": {},
   "outputs": [
    {
     "name": "stdout",
     "output_type": "stream",
     "text": [
      "Requirement already satisfied: graphene in /opt/conda/lib/python3.6/site-packages (2.1.3)\n",
      "Requirement already satisfied: graphql-relay<1,>=0.4.5 in /opt/conda/lib/python3.6/site-packages (from graphene) (0.4.5)\n",
      "Requirement already satisfied: graphql-core<3,>=2.1 in /opt/conda/lib/python3.6/site-packages (from graphene) (2.1)\n",
      "Requirement already satisfied: six<2,>=1.10.0 in /opt/conda/lib/python3.6/site-packages (from graphene) (1.11.0)\n",
      "Requirement already satisfied: aniso8601<4,>=3 in /opt/conda/lib/python3.6/site-packages (from graphene) (3.0.2)\n",
      "Requirement already satisfied: promise<3,>=2.1 in /opt/conda/lib/python3.6/site-packages (from graphene) (2.2.1)\n",
      "Requirement already satisfied: rx>=1.6.0 in /opt/conda/lib/python3.6/site-packages (from graphql-core<3,>=2.1->graphene) (1.6.1)\n"
     ]
    }
   ],
   "source": [
    "!pip install graphene\n",
    "import graphene\n",
    "import json\n",
    "import sys, io\n",
    "import pandas as pd\n",
    "import numpy as np\n",
    "import importlib\n",
    "import os\n",
    "import pathlib\n",
    "import requests\n",
    "import torch\n",
    "\n",
    "bundle_root = pathlib.Path(os.environ.get('LABS_BUNDLE_ROOT', '/labs'))\n",
    "sys.path.append(str(bundle_root / 'functions/index_by_nationality'))"
   ]
  },
  {
   "cell_type": "code",
   "execution_count": 258,
   "metadata": {},
   "outputs": [],
   "source": [
    "query_metadata = \"\"\"query metadata {nationalityList, jobList}\"\"\"\n",
    "query_data = \"\"\"query data {movieList(nationality: \"Russian\", job: \"Director\")\n",
    "                {\n",
    "                title\n",
    "                revenue\n",
    "                }}\"\"\""
   ]
  },
  {
   "cell_type": "code",
   "execution_count": 261,
   "metadata": {},
   "outputs": [
    {
     "name": "stdout",
     "output_type": "stream",
     "text": [
      "pyarrow==0.8.0\n"
     ]
    }
   ],
   "source": [
    "!pip freeze | grep arrow"
   ]
  },
  {
   "cell_type": "markdown",
   "metadata": {},
   "source": [
    "# Test handler functions"
   ]
  },
  {
   "cell_type": "code",
   "execution_count": 259,
   "metadata": {},
   "outputs": [],
   "source": [
    "import handler \n",
    "importlib.reload(handler);"
   ]
  },
  {
   "cell_type": "code",
   "execution_count": 262,
   "metadata": {},
   "outputs": [
    {
     "data": {
      "text/plain": [
       "'{\"nationalityList\": [\"Arabic\", \"Czech\", \"Dutch\", \"English\", \"French\", \"German\", \"Greek\", \"Italian\", \"Japanese\", \"Korean\", \"Polish\", \"Portuguese\", \"Russian\", \"Scottish\", \"Spanish\", \"Vietnamese\"], \"jobList\": [\"24 Frame Playback\", \"2D Artist\", \"3D Animator\", \"3D Artist\", \"3D Modeller\", \"3D Supervisor\", \"ADR & Dubbing\", \"ADR Editor\", \"ADR Supervisor\", \"ADR Voice Casting\", \"Actor\\'s Assistant\", \"Adaptation\", \"Additional Camera\", \"Additional Dialogue\", \"Additional Editing\", \"Additional Music\", \"Additional Music Supervisor\", \"Additional Photography\", \"Additional Sound Re-Recording Mixer\", \"Additional Soundtrack\", \"Additional Writing\", \"Administration\", \"Aerial Camera\", \"Aerial Camera (suggest in addition to Helicopter Camera)\", \"Aerial Coordinator\", \"Aerial Director of Photography\", \"Ager/Dyer\", \"Animal Coordinator\", \"Animation\", \"Animation Department Coordinator\", \"Animation Director\", \"Animation Manager\", \"Animation Production Assistant\", \"Animation Supervisor\", \"Animatronic and Prosthetic Effects\", \"Animatronics Designer\", \"Apprentice Sound Editor\", \"Armorer\", \"Armory Coordinator\", \"Art Department Assistant\", \"Art Department Coordinator\", \"Art Department Manager\", \"Art Direction\", \"Assistant Art Director\", \"Assistant Costume Designer\", \"Assistant Director\", \"Assistant Editor\", \"Assistant Production Coordinator\", \"Assistant Production Manager\", \"Assistant Property Master\", \"Assistant Set Dresser\", \"Assistant Sound Editor\", \"Associate Choreographer\", \"Associate Editor\", \"Associate Producer\", \"Author\", \"Background Designer\", \"Battle Motion Coordinator\", \"Best Boy Electric\", \"Best Boy Electrician\", \"Book\", \"Boom Operator\", \"CG Animator\", \"CG Painter\", \"CG Supervisor\", \"CGI Director\", \"CGI Supervisor\", \"Cableman\", \"Camera Department Manager\", \"Camera Intern\", \"Camera Loader\", \"Camera Operator\", \"Camera Supervisor\", \"Camera Technician\", \"Carpenter\", \"Casting\", \"Casting Assistant\", \"Casting Associate\", \"Casting Consultant\", \"Character Designer\", \"Character Technical Supervisor\", \"Characters\", \"Chef\", \"Chief Lighting Technician\", \"Chief Technician / Stop-Motion Expert\", \"Choreographer\", \"Cinematography\", \"Co-Art Director\", \"Co-Costume Designer\", \"Co-Director\", \"Co-Executive Producer\", \"Co-Producer\", \"Co-Writer\", \"Color Designer\", \"Color Timer\", \"Comic Book\", \"Comic-Zeichner\", \"Commissioning Editor\", \"Compositors\", \"Conceptual Design\", \"Conceptual Illustrator\", \"Conductor\", \"Construction Coordinator\", \"Construction Foreman\", \"Consulting Producer\", \"Continuity\", \"Costume Consultant\", \"Costume Coordinator\", \"Costume Design\", \"Costume Illustrator\", \"Costume Supervisor\", \"Craft Service\", \"Creative Consultant\", \"Creative Producer\", \"Creator\", \"Creature Design\", \"Creature Technical Director\", \"Development Manager\", \"Dialect Coach\", \"Dialogue\", \"Dialogue Editor\", \"Digital Compositors\", \"Digital Effects Producer\", \"Digital Effects Supervisor\", \"Digital Intermediate\", \"Digital Producer\", \"Director\", \"Director of Photography\", \"Documentation & Support\", \"Dolby Consultant\", \"Dolly Grip\", \"Draughtsman\", \"Driver\", \"Drone Operator\", \"Editor\", \"Editorial Coordinator\", \"Editorial Manager\", \"Editorial Production Assistant\", \"Editorial Services\", \"Editorial Staff\", \"Electrician\", \"Epk Camera Operator\", \"Executive Consultant\", \"Executive In Charge Of Post Production\", \"Executive In Charge Of Production\", \"Executive Music Producer\", \"Executive Producer\", \"Executive Visual Effects Producer\", \"Fight Choreographer\", \"Finance\", \"First Assistant Camera\", \"First Assistant Director\", \"First Assistant Editor\", \"First Assistant Sound Editor\", \"Foley\", \"Foley Editor\", \"Gaffer\", \"Graphic Novel Illustrator\", \"Greensman\", \"Grip\", \"Hair Department Head\", \"Hair Designer\", \"Hair Setup\", \"Hair Supervisor\", \"Hairstylist\", \"Helicopter Camera\", \"I/O Manager\", \"I/O Supervisor\", \"Idea\", \"Imaging Science\", \"In Memory Of\", \"Interior Designer\", \"Key Animation\", \"Key Costumer\", \"Key Grip\", \"Key Hair Stylist\", \"Key Makeup Artist\", \"Key Set Costumer\", \"Layout\", \"Lead Animator\", \"Lead Painter\", \"Lead Set Dresser\", \"Leadman\", \"Legal Services\", \"Lighting Artist\", \"Lighting Camera\", \"Lighting Director\", \"Lighting Supervisor\", \"Lighting Technician\", \"Line Producer\", \"Loader\", \"Local Casting\", \"Location Manager\", \"Location Scout\", \"Machinist\", \"Makeup Artist\", \"Makeup Department Head\", \"Makeup Designer\", \"Makeup Effects\", \"Makeup Effects Designer\", \"Makeup Supervisor\", \"Manager of Operations\", \"Martial Arts Choreographer\", \"Matchmove Supervisor\", \"Mechanical & Creature Designer\", \"Mechanical Designer\", \"Mix Technician\", \"Mixing Engineer\", \"Modeling\", \"Motion Actor\", \"Motion Capture Artist\", \"Music\", \"Music Director\", \"Music Editor\", \"Music Programmer\", \"Music Score Producer\", \"Music Supervisor\", \"Musical\", \"Musician\", \"Negative Cutter\", \"Novel\", \"Orchestrator\", \"Original Music Composer\", \"Original Story\", \"Other\", \"Painter\", \"Photoscience Manager\", \"Picture Car Coordinator\", \"Pilot\", \"Playback Singer\", \"Poem\", \"Post Production Assistant\", \"Post Production Consulting\", \"Post Production Supervisor\", \"Post-Production Manager\", \"Pre-Visualization Supervisor\", \"Presenter\", \"Producer\", \"Production Accountant\", \"Production Artist\", \"Production Controller\", \"Production Coordinator\", \"Production Design\", \"Production Director\", \"Production Illustrator\", \"Production Intern\", \"Production Manager\", \"Production Office Assistant\", \"Production Office Coordinator\", \"Production Sound Mixer\", \"Production Supervisor\", \"Projection\", \"Prop Maker\", \"Property Master\", \"Propmaker\", \"Prosthetic Designer\", \"Prosthetic Makeup Artist\", \"Prosthetic Supervisor\", \"Publicist\", \"Pyrotechnician\", \"Radio Play\", \"Recording Supervision\", \"Researcher\", \"Rigging Gaffer\", \"Rigging Grip\", \"Roto Supervisor\", \"Scenario Writer\", \"Scenic Artist\", \"Score Engineer\", \"Scoring Mixer\", \"Screenplay\", \"Screenstory\", \"Script\", \"Script Consultant\", \"Script Coordinator\", \"Script Editor\", \"Script Researcher\", \"Script Supervisor\", \"Sculptor\", \"Seamstress\", \"Second Assistant Director\", \"Second Film Editor\", \"Second Unit\", \"Second Unit Cinematographer\", \"Second Unit Director of Photography\", \"Security\", \"Sequence Artist\", \"Sequence Leads\", \"Sequence Supervisor\", \"Series Writer\", \"Set Costumer\", \"Set Decorating Coordinator\", \"Set Decoration\", \"Set Decoration Buyer\", \"Set Designer\", \"Set Dresser\", \"Set Dressing Artist\", \"Set Dressing Manager\", \"Set Dressing Supervisor\", \"Set Medic\", \"Set Production Assistant\", \"Set Production Intern\", \"Settings\", \"Shading\", \"Short Story\", \"Simulation & Effects Artist\", \"Software Engineer\", \"Software Team Lead\", \"Songs\", \"Sound\", \"Sound Design Assistant\", \"Sound Designer\", \"Sound Director\", \"Sound Editor\", \"Sound Effects\", \"Sound Effects Designer\", \"Sound Effects Editor\", \"Sound Engineer\", \"Sound Mixer\", \"Sound Re-Recording Mixer\", \"Sound Recordist\", \"Sound mixer\", \"Special Effects\", \"Special Effects Coordinator\", \"Special Effects Supervisor\", \"Special Sound Effects\", \"Stand In\", \"Standby Painter\", \"Steadicam Operator\", \"Still Photographer\", \"Story\", \"Story Editor\", \"Storyboard\", \"Storyboard Designer\", \"Studio Teachers\", \"Stunt Coordinator\", \"Stunt Double\", \"Stunts\", \"Stunts Coordinator\", \"Supervising ADR Editor\", \"Supervising Animator\", \"Supervising Art Director\", \"Supervising Dialogue Editor\", \"Supervising Film Editor\", \"Supervising Music Editor\", \"Supervising Producer\", \"Supervising Sound Editor\", \"Supervising Sound Effects Editor\", \"Supervising Technical Director\", \"Supervisor of Production Resources\", \"Systems Administrators & Support\", \"Tailor\", \"Tattooist\", \"Technical Supervisor\", \"Techno Crane Operator\", \"Telecine Colorist\", \"Teleplay\", \"Temp Sound Editor\", \"Thanks\", \"Theatre Play\", \"Theme Song Performance\", \"Third Assistant Director\", \"Title Designer\", \"Title Graphics\", \"Translator\", \"Transportation Captain\", \"Transportation Co-Captain\", \"Transportation Coordinator\", \"Underwater Camera\", \"Underwater Director of Photography\", \"Unit Manager\", \"Unit Production Manager\", \"Unit Publicist\", \"Utility Sound\", \"Utility Stunts\", \"VFX Artist\", \"VFX Editor\", \"VFX Production Coordinator\", \"VFX Supervisor\", \"Video Assist Operator\", \"Visual Development\", \"Visual Effects\", \"Visual Effects Art Director\", \"Visual Effects Coordinator\", \"Visual Effects Design Consultant\", \"Visual Effects Designer\", \"Visual Effects Editor\", \"Visual Effects Producer\", \"Visual Effects Supervisor\", \"Visual Effects Technical Director\", \"Vocal Coach\", \"Wardrobe Supervisor\", \"Wigmaker\", \"Writer\", \"treatment\", \"2D Supervisor\", \"3D Coordinator\", \"3D Director\", \"3D Generalist\", \"Actor\", \"Additional Editorial Assistant\", \"Additional Still Photographer\", \"Animal Wrangler\", \"Archival Footage Coordinator\", \"Co-Editor\", \"Department Administrator\", \"Dramaturgy\", \"Executive in Charge of Finance\", \"Lighting Manager\", \"Lighting Production Assistant\", \"Marine Coordinator\", \"Master Lighting Artist\", \"Opera\", \"Public Relations\", \"Pyrotechnic Supervisor\", \"Sets & Props Artist\", \"Sets & Props Supervisor\", \"Steadycam\", \"Tattoo Designer\", \"Temp Music Editor\", \"Ultimate Arm Operator\", \"Wig Designer\", \"Dramaturgie\", \"Fix Animator\", \"Rigging Supervisor\", \"Video Game\", \"Aerial Camera Technician\", \"Assistant Music Supervisor\", \"Coordinating Producer\", \"Directing Lighting Artist\", \"Information Systems Manager\", \"Set Dressing Production Assistant\", \"Stereoscopic Coordinator\", \"Underwater Gaffer\", \"Voice\", \"Animatronics Supervisor\", \"Archival Footage Research\", \"Gun Wrangler\", \"Lighting Coordinator\", \"Quality Control Supervisor\", \"Schedule Coordinator\", \"Sign Painter\", \"Sound Montage Associate\", \"Prop Designer\", \"Special Guest Director\", \"Opening/Ending Animation\", \"Lead Character Designer\", \"Shoe Design\", \"Animation Fix Coordinator\", \"Character Modelling Supervisor\", \"Cloth Setup\", \"Russian Arm Operator\", \"Simulation & Effects Production Assistant\", \"Facial Setup Artist\", \"VFX Director of Photography\", \"CG Engineer\"]}'"
      ]
     },
     "execution_count": 262,
     "metadata": {},
     "output_type": "execute_result"
    }
   ],
   "source": [
    "handler.handle()"
   ]
  },
  {
   "cell_type": "code",
   "execution_count": 260,
   "metadata": {},
   "outputs": [
    {
     "data": {
      "text/plain": [
       "'{\"movieList\": [{\"title\": \"Jurassic World\", \"revenue\": 1513528810}, {\"title\": \"The Fate of the Furious\", \"revenue\": 1238764765}, {\"title\": \"Captain America: Civil War\", \"revenue\": 1153304495}]}'"
      ]
     },
     "execution_count": 260,
     "metadata": {},
     "output_type": "execute_result"
    }
   ],
   "source": [
    "handler.handle(query_data)"
   ]
  },
  {
   "cell_type": "markdown",
   "metadata": {},
   "source": [
    "# Deploy function"
   ]
  },
  {
   "cell_type": "markdown",
   "metadata": {},
   "source": [
    "### cheat sheet"
   ]
  },
  {
   "cell_type": "code",
   "execution_count": 6,
   "metadata": {},
   "outputs": [],
   "source": [
    "# labs bundle deploy staging (deploy to staging)\n",
    "# labs bundle build classify_name (build locally for debugging)\n",
    "# labs function run sunburst -d '{\"date_range\": [20180201,20180401], \"max_level\":4, \"threshold\":1000, \"operating_system\": \"all\"}' (example local call)"
   ]
  },
  {
   "cell_type": "code",
   "execution_count": null,
   "metadata": {},
   "outputs": [],
   "source": [
    "#labs bundle build classify_name && docker run -it --rm --name function_test -p 5000:5000 classify_name python index.py"
   ]
  },
  {
   "cell_type": "markdown",
   "metadata": {},
   "source": [
    "# Test function "
   ]
  },
  {
   "cell_type": "code",
   "execution_count": 7,
   "metadata": {},
   "outputs": [
    {
     "name": "stdout",
     "output_type": "stream",
     "text": [
      "<html>\n",
      "<head><title>503 Service Temporarily Unavailable</title></head>\n",
      "<body bgcolor=\"white\">\n",
      "<center><h1>503 Service Temporarily Unavailable</h1></center>\n",
      "<hr><center>nginx/1.13.12</center>\n",
      "</body>\n",
      "</html>\n"
     ]
    }
   ],
   "source": [
    "!curl -d '{\"max_level\":8,\"threshold\":10000,\"date_range\":[\"2018-02-17\",\"2018-04-18\"]}' https://labs.ctmo.io/21b899ae-3eba-56a7-97da-fa26c050d1c5/v1/function/08fb1d62-066a-42d6-bfb4-12d127c5bfd2/sunburst"
   ]
  },
  {
   "cell_type": "code",
   "execution_count": 8,
   "metadata": {},
   "outputs": [
    {
     "name": "stdout",
     "output_type": "stream",
     "text": [
      "CPU times: user 21 ms, sys: 2.63 ms, total: 23.7 ms\n",
      "Wall time: 848 ms\n"
     ]
    }
   ],
   "source": [
    "%%time\n",
    "deployed_output = requests.post('https://labs.stg.contiamo.io/21b899ae-3eba-56a7-97da-fa26c050d1c5/v1/function/6d02283a-7896-4f42-9ae2-a18cccfd9318/sunburst',\n",
    "                                data= json.dumps({'date_range': [\"2018-04-03\",\"2018-04-06\"],\n",
    "                                                  'max_level': 8, \n",
    "                                                  'threshold': 1000,\n",
    "                                                  'operating_system': 'all',\n",
    "                                                  'browser': 'all'})).json()"
   ]
  },
  {
   "cell_type": "markdown",
   "metadata": {},
   "source": [
    "deployed_output"
   ]
  },
  {
   "cell_type": "code",
   "execution_count": 9,
   "metadata": {},
   "outputs": [
    {
     "data": {
      "text/plain": [
       "{'current_date': '2018-08-24',\n",
       " 'date_range': ['2017-09-01', '2018-08-23'],\n",
       " 'load_time (ms)': 1741,\n",
       " 'os_values': ['Android', 'iOS', 'Other', 'BlackBerry'],\n",
       " 't_function_call (ms)': 113,\n",
       " 't_package_import (ms)': 469,\n",
       " 't_parse_input (ms)': 2,\n",
       " 'version': '1.7'}"
      ]
     },
     "execution_count": 9,
     "metadata": {},
     "output_type": "execute_result"
    }
   ],
   "source": [
    "deployed_output['metadata']"
   ]
  },
  {
   "cell_type": "code",
   "execution_count": 10,
   "metadata": {},
   "outputs": [
    {
     "data": {
      "text/plain": [
       "'182083'"
      ]
     },
     "execution_count": 10,
     "metadata": {},
     "output_type": "execute_result"
    }
   ],
   "source": [
    "deployed_output['sunburst_data']['data']['value']"
   ]
  },
  {
   "cell_type": "markdown",
   "metadata": {},
   "source": [
    "### Compare"
   ]
  },
  {
   "cell_type": "code",
   "execution_count": 165,
   "metadata": {},
   "outputs": [
    {
     "data": {
      "text/plain": [
       "True"
      ]
     },
     "execution_count": 165,
     "metadata": {},
     "output_type": "execute_result"
    }
   ],
   "source": [
    "output['sunburst_data'] == deployed_output['sunburst_data']"
   ]
  }
 ],
 "metadata": {
  "kernelspec": {
   "display_name": "Python 3",
   "language": "python",
   "name": "python3"
  },
  "language_info": {
   "codemirror_mode": {
    "name": "ipython",
    "version": 3
   },
   "file_extension": ".py",
   "mimetype": "text/x-python",
   "name": "python",
   "nbconvert_exporter": "python",
   "pygments_lexer": "ipython3",
   "version": "3.6.3"
  }
 },
 "nbformat": 4,
 "nbformat_minor": 2
}
